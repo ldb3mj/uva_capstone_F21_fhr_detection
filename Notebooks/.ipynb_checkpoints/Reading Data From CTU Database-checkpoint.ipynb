{
 "cells": [
  {
   "cell_type": "code",
   "execution_count": 2,
   "id": "4b29b28c-d7b9-4e54-97ca-c768157015ff",
   "metadata": {},
   "outputs": [],
   "source": [
    "import wfdb\n",
    "\n",
    "\n",
    "from IPython.display import display\n",
    "import matplotlib.pyplot as plt\n",
    "import numpy as np\n",
    "import os\n",
    "import pandas as pd\n",
    "from tqdm import tqdm\n",
    "\n",
    "os.chdir('/Users/landonblakey/UVA/S4/DS6011/data')"
   ]
  },
  {
   "cell_type": "code",
   "execution_count": 102,
   "id": "a64f2a2b-2498-4f19-8668-812f8530603c",
   "metadata": {},
   "outputs": [
    {
     "ename": "AttributeError",
     "evalue": "'int' object has no attribute 'ndim'",
     "output_type": "error",
     "traceback": [
      "\u001b[0;31m---------------------------------------------------------------------------\u001b[0m",
      "\u001b[0;31mAttributeError\u001b[0m                            Traceback (most recent call last)",
      "\u001b[0;32m/var/folders/ch/d9scct7n1y30kqjyb9_tp4jc0000gn/T/ipykernel_34072/1283554097.py\u001b[0m in \u001b[0;36m<module>\u001b[0;34m\u001b[0m\n\u001b[1;32m      3\u001b[0m \u001b[0mann\u001b[0m \u001b[0;34m=\u001b[0m \u001b[0mwfdb\u001b[0m\u001b[0;34m.\u001b[0m\u001b[0mrdann\u001b[0m\u001b[0;34m(\u001b[0m\u001b[0;34m'./physionet_data/1001'\u001b[0m\u001b[0;34m,\u001b[0m \u001b[0;34m'hea'\u001b[0m\u001b[0;34m,\u001b[0m\u001b[0msampfrom\u001b[0m\u001b[0;34m=\u001b[0m\u001b[0;36m0\u001b[0m\u001b[0;34m,\u001b[0m \u001b[0msampto\u001b[0m\u001b[0;34m=\u001b[0m\u001b[0;36m720\u001b[0m\u001b[0;34m)\u001b[0m\u001b[0;34m\u001b[0m\u001b[0;34m\u001b[0m\u001b[0m\n\u001b[1;32m      4\u001b[0m \u001b[0;34m\u001b[0m\u001b[0m\n\u001b[0;32m----> 5\u001b[0;31m wfdb.plot_items(signal=record.n_sig, fs=4,\n\u001b[0m\u001b[1;32m      6\u001b[0m                     \u001b[0mann_samp\u001b[0m\u001b[0;34m=\u001b[0m\u001b[0;34m[\u001b[0m\u001b[0mann\u001b[0m\u001b[0;34m.\u001b[0m\u001b[0msample\u001b[0m\u001b[0;34m,\u001b[0m \u001b[0mann\u001b[0m\u001b[0;34m.\u001b[0m\u001b[0msample\u001b[0m\u001b[0;34m]\u001b[0m\u001b[0;34m,\u001b[0m\u001b[0;34m\u001b[0m\u001b[0;34m\u001b[0m\u001b[0m\n\u001b[1;32m      7\u001b[0m                     figsize=(18,8))\n",
      "\u001b[0;32m~/.pyenv/versions/3.9.2/lib/python3.9/site-packages/wfdb/plot/plot.py\u001b[0m in \u001b[0;36mplot_items\u001b[0;34m(signal, ann_samp, ann_sym, fs, time_units, sig_name, sig_units, xlabel, ylabel, title, sig_style, ann_style, ecg_grids, figsize, sharex, sharey, return_fig, return_fig_axes)\u001b[0m\n\u001b[1;32m    112\u001b[0m \u001b[0;34m\u001b[0m\u001b[0m\n\u001b[1;32m    113\u001b[0m     \u001b[0;31m# Figure out number of subplots required\u001b[0m\u001b[0;34m\u001b[0m\u001b[0;34m\u001b[0m\u001b[0;34m\u001b[0m\u001b[0m\n\u001b[0;32m--> 114\u001b[0;31m     \u001b[0msig_len\u001b[0m\u001b[0;34m,\u001b[0m \u001b[0mn_sig\u001b[0m\u001b[0;34m,\u001b[0m \u001b[0mn_annot\u001b[0m\u001b[0;34m,\u001b[0m \u001b[0mn_subplots\u001b[0m \u001b[0;34m=\u001b[0m \u001b[0mget_plot_dims\u001b[0m\u001b[0;34m(\u001b[0m\u001b[0msignal\u001b[0m\u001b[0;34m,\u001b[0m \u001b[0mann_samp\u001b[0m\u001b[0;34m)\u001b[0m\u001b[0;34m\u001b[0m\u001b[0;34m\u001b[0m\u001b[0m\n\u001b[0m\u001b[1;32m    115\u001b[0m \u001b[0;34m\u001b[0m\u001b[0m\n\u001b[1;32m    116\u001b[0m     \u001b[0;31m# Create figure\u001b[0m\u001b[0;34m\u001b[0m\u001b[0;34m\u001b[0m\u001b[0;34m\u001b[0m\u001b[0m\n",
      "\u001b[0;32m~/.pyenv/versions/3.9.2/lib/python3.9/site-packages/wfdb/plot/plot.py\u001b[0m in \u001b[0;36mget_plot_dims\u001b[0;34m(signal, ann_samp)\u001b[0m\n\u001b[1;32m    189\u001b[0m     \"\"\"\n\u001b[1;32m    190\u001b[0m     \u001b[0;32mif\u001b[0m \u001b[0msignal\u001b[0m \u001b[0;32mis\u001b[0m \u001b[0;32mnot\u001b[0m \u001b[0;32mNone\u001b[0m\u001b[0;34m:\u001b[0m\u001b[0;34m\u001b[0m\u001b[0;34m\u001b[0m\u001b[0m\n\u001b[0;32m--> 191\u001b[0;31m         \u001b[0;32mif\u001b[0m \u001b[0msignal\u001b[0m\u001b[0;34m.\u001b[0m\u001b[0mndim\u001b[0m \u001b[0;34m==\u001b[0m \u001b[0;36m1\u001b[0m\u001b[0;34m:\u001b[0m\u001b[0;34m\u001b[0m\u001b[0;34m\u001b[0m\u001b[0m\n\u001b[0m\u001b[1;32m    192\u001b[0m             \u001b[0msig_len\u001b[0m \u001b[0;34m=\u001b[0m \u001b[0mlen\u001b[0m\u001b[0;34m(\u001b[0m\u001b[0msignal\u001b[0m\u001b[0;34m)\u001b[0m\u001b[0;34m\u001b[0m\u001b[0;34m\u001b[0m\u001b[0m\n\u001b[1;32m    193\u001b[0m             \u001b[0mn_sig\u001b[0m \u001b[0;34m=\u001b[0m \u001b[0;36m1\u001b[0m\u001b[0;34m\u001b[0m\u001b[0;34m\u001b[0m\u001b[0m\n",
      "\u001b[0;31mAttributeError\u001b[0m: 'int' object has no attribute 'ndim'"
     ]
    }
   ],
   "source": [
    "record = wfdb.rdrecord('./physionet_data/1001', sampfrom=0, sampto=720)\n",
    "# wfdb.plot.plot_wfdb(record)\n",
    "ann = wfdb.rdann('./physionet_data/1001', 'hea',sampfrom=0, sampto=720)\n",
    "\n",
    "# wfdb.plot_items(signal=record.n_sig, fs=4,\n",
    "#                     ann_samp=[ann.sample, ann.sample],\n",
    "#                     figsize=(18,8))\n",
    "\n",
    "wfdb.plot.plot_wfdb(signal=record, ann=ann, plot_sym=True"
   ]
  },
  {
   "cell_type": "code",
   "execution_count": 92,
   "id": "25065cdb-fb16-4163-97c3-81c8deb35e3a",
   "metadata": {},
   "outputs": [
    {
     "data": {
      "image/png": "[encoded data removed]",
      "text/plain": [
       "<Figure size 432x288 with 2 Axes>"
      ]
     },
     "metadata": {
      "needs_background": "light"
     },
     "output_type": "display_data"
    }
   ],
   "source": [
    "wfdb.plot.plot_wfdb(record)"
   ]
  },
  {
   "cell_type": "code",
   "execution_count": null,
   "id": "00d8937e-a710-4521-b00b-0b91a68c5772",
   "metadata": {},
   "outputs": [],
   "source": [
    "ann = wfdb.rdann('sample-data/100', 'atr', sampto=3000)"
   ]
  },
  {
   "cell_type": "code",
   "execution_count": 15,
   "id": "53c20f6b-a3ab-44f9-9cd7-711dcfcca955",
   "metadata": {},
   "outputs": [],
   "source": [
    "def get_all_records():\n",
    "    rec_list = []\n",
    "    for file in os.listdir(\"physionet_data/\"):\n",
    "        rec = file[:file.find('.')]\n",
    "        try:\n",
    "            rec = int(rec)\n",
    "            rec_list.append(rec)\n",
    "        except:\n",
    "            pass\n",
    "    rec_list = [str(i) for i in rec_list]\n",
    "    return rec_list\n",
    "\n",
    "def create_signals_database(rec):\n",
    "    sample = wfdb.rdsamp(\"physionet_data/%s\" % rec)\n",
    "    df = pd.DataFrame(sample[0], columns=['FHR','UC'])\n",
    "    df.index.name = 'seconds'\n",
    "    df.to_csv('database/signals/%s.csv' % rec)\n",
    "    \n",
    "    \n",
    "def create_ann_dataframe(rec):\n",
    "    sample = wfdb.rdsamp(\"physionet_data/%s\" % rec)\n",
    "    ann = sample[1]['comments'][1:]\n",
    "    ann_dic = {}\n",
    "    for a in ann:\n",
    "        if '--' in a:\n",
    "            ann.remove(a)\n",
    "\n",
    "    for a in ann:\n",
    "        key = a[:a.find('  ')]\n",
    "        if a.find('  ') == -1:\n",
    "            key = a[:a.find(' ')]\n",
    "        inv = a[::-1]\n",
    "        value = inv[:inv.find(' ')][::-1]\n",
    "        value = float(value)\n",
    "        ann_dic[key] = [value]\n",
    "        \n",
    "    df1 = pd.DataFrame.from_dict(ann_dic).T\n",
    "    df1 = df1.rename(columns={0:rec})\n",
    "    return df1\n",
    "\n",
    "def append_ann_dataframes(df,df1):\n",
    "    rec = df1.columns[0]\n",
    "    df[rec] = df1[rec]\n",
    "    return df"
   ]
  },
  {
   "cell_type": "code",
   "execution_count": 16,
   "id": "f7d6bb72-403f-4900-ab0c-f35947c3735f",
   "metadata": {},
   "outputs": [
    {
     "name": "stderr",
     "output_type": "stream",
     "text": [
      "  9%|███▌                                    | 100/1104 [00:05<00:48, 20.64it/s]/var/folders/ch/d9scct7n1y30kqjyb9_tp4jc0000gn/T/ipykernel_40783/2773049072.py:43: PerformanceWarning: DataFrame is highly fragmented.  This is usually the result of calling `frame.insert` many times, which has poor performance.  Consider joining all columns at once using pd.concat(axis=1) instead.  To get a de-fragmented frame, use `newframe = frame.copy()`\n",
      "  df[rec] = df1[rec]\n",
      "100%|███████████████████████████████████████| 1104/1104 [00:56<00:00, 19.48it/s]\n"
     ]
    }
   ],
   "source": [
    "df = pd.DataFrame()\n",
    "for rec in tqdm(get_all_records()):\n",
    "    create_signals_database(rec)\n",
    "    df = append_ann_dataframes(df,create_ann_dataframe(rec))\n",
    "df.to_csv('database/ann_db.csv')"
   ]
  },
  {
   "cell_type": "code",
   "execution_count": 16,
   "id": "24530ada-dd8d-4b7f-b537-0ecfe568b1e1",
   "metadata": {},
   "outputs": [],
   "source": [
    "df1001 = pd.read_csv('./database/signals/1001.csv')"
   ]
  },
  {
   "cell_type": "code",
   "execution_count": 64,
   "id": "e0ab3221-909e-4938-9a2c-91bcdd73b876",
   "metadata": {},
   "outputs": [
    {
     "data": {
      "text/html": [
       "<div>\n",
       "<style scoped>\n",
       "    .dataframe tbody tr th:only-of-type {\n",
       "        vertical-align: middle;\n",
       "    }\n",
       "\n",
       "    .dataframe tbody tr th {\n",
       "        vertical-align: top;\n",
       "    }\n",
       "\n",
       "    .dataframe thead th {\n",
       "        text-align: right;\n",
       "    }\n",
       "</style>\n",
       "<table border=\"1\" class=\"dataframe\">\n",
       "  <thead>\n",
       "    <tr style=\"text-align: right;\">\n",
       "      <th></th>\n",
       "      <th>seconds</th>\n",
       "      <th>FHR</th>\n",
       "      <th>UC</th>\n",
       "    </tr>\n",
       "  </thead>\n",
       "  <tbody>\n",
       "    <tr>\n",
       "      <th>19100</th>\n",
       "      <td>19100</td>\n",
       "      <td>0.0</td>\n",
       "      <td>0.0</td>\n",
       "    </tr>\n",
       "    <tr>\n",
       "      <th>19101</th>\n",
       "      <td>19101</td>\n",
       "      <td>0.0</td>\n",
       "      <td>0.0</td>\n",
       "    </tr>\n",
       "    <tr>\n",
       "      <th>19102</th>\n",
       "      <td>19102</td>\n",
       "      <td>0.0</td>\n",
       "      <td>0.0</td>\n",
       "    </tr>\n",
       "    <tr>\n",
       "      <th>19103</th>\n",
       "      <td>19103</td>\n",
       "      <td>0.0</td>\n",
       "      <td>0.0</td>\n",
       "    </tr>\n",
       "    <tr>\n",
       "      <th>19104</th>\n",
       "      <td>19104</td>\n",
       "      <td>0.0</td>\n",
       "      <td>0.0</td>\n",
       "    </tr>\n",
       "    <tr>\n",
       "      <th>...</th>\n",
       "      <td>...</td>\n",
       "      <td>...</td>\n",
       "      <td>...</td>\n",
       "    </tr>\n",
       "    <tr>\n",
       "      <th>19195</th>\n",
       "      <td>19195</td>\n",
       "      <td>0.0</td>\n",
       "      <td>0.0</td>\n",
       "    </tr>\n",
       "    <tr>\n",
       "      <th>19196</th>\n",
       "      <td>19196</td>\n",
       "      <td>0.0</td>\n",
       "      <td>0.0</td>\n",
       "    </tr>\n",
       "    <tr>\n",
       "      <th>19197</th>\n",
       "      <td>19197</td>\n",
       "      <td>0.0</td>\n",
       "      <td>0.0</td>\n",
       "    </tr>\n",
       "    <tr>\n",
       "      <th>19198</th>\n",
       "      <td>19198</td>\n",
       "      <td>0.0</td>\n",
       "      <td>0.0</td>\n",
       "    </tr>\n",
       "    <tr>\n",
       "      <th>19199</th>\n",
       "      <td>19199</td>\n",
       "      <td>0.0</td>\n",
       "      <td>0.0</td>\n",
       "    </tr>\n",
       "  </tbody>\n",
       "</table>\n",
       "<p>100 rows × 3 columns</p>\n",
       "</div>"
      ],
      "text/plain": [
       "       seconds  FHR   UC\n",
       "19100    19100  0.0  0.0\n",
       "19101    19101  0.0  0.0\n",
       "19102    19102  0.0  0.0\n",
       "19103    19103  0.0  0.0\n",
       "19104    19104  0.0  0.0\n",
       "...        ...  ...  ...\n",
       "19195    19195  0.0  0.0\n",
       "19196    19196  0.0  0.0\n",
       "19197    19197  0.0  0.0\n",
       "19198    19198  0.0  0.0\n",
       "19199    19199  0.0  0.0\n",
       "\n",
       "[100 rows x 3 columns]"
      ]
     },
     "execution_count": 64,
     "metadata": {},
     "output_type": "execute_result"
    }
   ],
   "source": [
    "df1001.tail(100)"
   ]
  },
  {
   "cell_type": "code",
   "execution_count": 103,
   "id": "5e0d652c-bbd7-4076-9d22-c2c577c3fabf",
   "metadata": {},
   "outputs": [
    {
     "data": {
      "image/png": "[encoded data removed]",
      "text/plain": [
       "<Figure size 432x288 with 1 Axes>"
      ]
     },
     "metadata": {
      "needs_background": "light"
     },
     "output_type": "display_data"
    }
   ],
   "source": [
    "plt.plot(df1001.seconds, df1001.FHR)\n",
    "# plt.plot(df1001.seconds, df1001.UC)\n",
    "plt.xlabel(\"time in s\")\n",
    "plt.ylabel(\"FHR bpm\")\n",
    "plt.show()"
   ]
  },
  {
   "cell_type": "code",
   "execution_count": 27,
   "id": "707aea8b-1f49-4e07-8341-adf058293560",
   "metadata": {},
   "outputs": [],
   "source": [
    "x = df1001.seconds.to_numpy()\n",
    "yf = df1001.FHR.to_numpy()\n",
    "yc = df1001.UC.to_numpy()"
   ]
  },
  {
   "cell_type": "code",
   "execution_count": null,
   "id": "5c4b7981-cbd9-4dd4-98af-cc9a9ceba128",
   "metadata": {},
   "outputs": [],
   "source": [
    "from scipy.interpolate import interp1d\n",
    "\n",
    "f = interp1d(x, yf)\n",
    "\n"
   ]
  },
  {
   "cell_type": "code",
   "execution_count": 7,
   "id": "e07e95b7-2b10-4b0d-8913-d2745ffba377",
   "metadata": {},
   "outputs": [],
   "source": [
    "sample = wfdb.rdsamp(\"physionet_data/1001\")"
   ]
  },
  {
   "cell_type": "code",
   "execution_count": 8,
   "id": "6f8c77bc-017a-433e-8fb2-f3c02bd6ba55",
   "metadata": {},
   "outputs": [
    {
     "data": {
      "text/plain": [
       "(array([[150.5,   7. ],\n",
       "        [150.5,   8.5],\n",
       "        [151. ,   8.5],\n",
       "        ...,\n",
       "        [  0. ,   0. ],\n",
       "        [  0. ,   0. ],\n",
       "        [  0. ,   0. ]]),\n",
       " {'fs': 4,\n",
       "  'sig_len': 19200,\n",
       "  'n_sig': 2,\n",
       "  'base_date': None,\n",
       "  'base_time': None,\n",
       "  'units': ['bpm', 'nd'],\n",
       "  'sig_name': ['FHR', 'UC'],\n",
       "  'comments': ['----- Additional parameters for record 1001',\n",
       "   '-- Outcome measures',\n",
       "   'pH           7.14',\n",
       "   'BDecf        8.14',\n",
       "   'pCO2         7.7',\n",
       "   'BE           -10.5',\n",
       "   'Apgar1       6',\n",
       "   'Apgar5       8',\n",
       "   '-- !NotReadyYet! Neonatology outcome measures !NotReadyYet!',\n",
       "   'NICU days    0',\n",
       "   'Seizures     0',\n",
       "   'HIE          0',\n",
       "   'Intubation   0',\n",
       "   'Main diag.   0',\n",
       "   'Other diag.  0',\n",
       "   '-- Fetus/Neonate descriptors',\n",
       "   'Gest. weeks  37',\n",
       "   'Weight(g)    2660',\n",
       "   'Sex          2',\n",
       "   '-- Maternal (risk-)factors',\n",
       "   'Age          32',\n",
       "   'Gravidity    1',\n",
       "   'Parity       0',\n",
       "   'Diabetes     1',\n",
       "   'Hypertension 0',\n",
       "   'Preeclampsia 0',\n",
       "   'Liq. praecox 1',\n",
       "   'Pyrexia      0',\n",
       "   'Meconium     0',\n",
       "   '-- Delivery descriptors',\n",
       "   'Presentation 2',\n",
       "   'Induced      0',\n",
       "   'I.stage      232',\n",
       "   'NoProgress   0',\n",
       "   'CK/KP        0',\n",
       "   'II.stage     20',\n",
       "   'Deliv. type  1',\n",
       "   '-- Signal information',\n",
       "   'dbID         974204',\n",
       "   'Rec. type    1',\n",
       "   'Pos. II.st.  14400',\n",
       "   'Sig2Birth    0']})"
      ]
     },
     "execution_count": 8,
     "metadata": {},
     "output_type": "execute_result"
    }
   ],
   "source": [
    "sample"
   ]
  },
  {
   "cell_type": "code",
   "execution_count": 13,
   "id": "3638bedb-3c88-49e6-ac56-a969a35b679a",
   "metadata": {},
   "outputs": [
    {
     "data": {
      "text/plain": [
       "['__class__',\n",
       " '__delattr__',\n",
       " '__dict__',\n",
       " '__dir__',\n",
       " '__doc__',\n",
       " '__eq__',\n",
       " '__format__',\n",
       " '__ge__',\n",
       " '__getattribute__',\n",
       " '__gt__',\n",
       " '__hash__',\n",
       " '__init__',\n",
       " '__init_subclass__',\n",
       " '__le__',\n",
       " '__lt__',\n",
       " '__module__',\n",
       " '__ne__',\n",
       " '__new__',\n",
       " '__reduce__',\n",
       " '__reduce_ex__',\n",
       " '__repr__',\n",
       " '__setattr__',\n",
       " '__sizeof__',\n",
       " '__str__',\n",
       " '__subclasshook__',\n",
       " '__weakref__',\n",
       " '_adjust_datetime',\n",
       " '_arrange_fields',\n",
       " 'adc',\n",
       " 'adc_gain',\n",
       " 'adc_res',\n",
       " 'adc_zero',\n",
       " 'base_counter',\n",
       " 'base_date',\n",
       " 'base_time',\n",
       " 'baseline',\n",
       " 'block_size',\n",
       " 'byte_offset',\n",
       " 'calc_adc_params',\n",
       " 'calc_checksum',\n",
       " 'check_field',\n",
       " 'check_field_cohesion',\n",
       " 'check_read_inputs',\n",
       " 'check_sig_cohesion',\n",
       " 'checksum',\n",
       " 'comments',\n",
       " 'convert_dtype',\n",
       " 'counter_freq',\n",
       " 'd_signal',\n",
       " 'dac',\n",
       " 'e_d_signal',\n",
       " 'e_p_signal',\n",
       " 'file_name',\n",
       " 'fmt',\n",
       " 'fs',\n",
       " 'get_write_fields',\n",
       " 'get_write_subset',\n",
       " 'init_value',\n",
       " 'n_sig',\n",
       " 'p_signal',\n",
       " 'record_name',\n",
       " 'samps_per_frame',\n",
       " 'set_d_features',\n",
       " 'set_default',\n",
       " 'set_defaults',\n",
       " 'set_p_features',\n",
       " 'sig_len',\n",
       " 'sig_name',\n",
       " 'skew',\n",
       " 'smooth_frames',\n",
       " 'units',\n",
       " 'wr_dat_files',\n",
       " 'wr_dats',\n",
       " 'wr_header_file',\n",
       " 'wrheader',\n",
       " 'wrsamp']"
      ]
     },
     "execution_count": 13,
     "metadata": {},
     "output_type": "execute_result"
    }
   ],
   "source": [
    "dir(record)"
   ]
  },
  {
   "cell_type": "code",
   "execution_count": 14,
   "id": "69d33ccb-5229-418b-b181-43ca346a1e82",
   "metadata": {},
   "outputs": [
    {
     "data": {
      "text/plain": [
       "[None, None]"
      ]
     },
     "execution_count": 14,
     "metadata": {},
     "output_type": "execute_result"
    }
   ],
   "source": [
    "record.skew"
   ]
  },
  {
   "cell_type": "code",
   "execution_count": 18,
   "id": "6d720e0e-b41c-4c55-9277-682a13272094",
   "metadata": {},
   "outputs": [],
   "source": [
    "import h5py"
   ]
  },
  {
   "cell_type": "code",
   "execution_count": 26,
   "id": "b07163eb-4578-401d-98d8-5c02638a7326",
   "metadata": {},
   "outputs": [
    {
     "name": "stdout",
     "output_type": "stream",
     "text": [
      "Keys: <KeysViewHDF5 ['model_weights', 'optimizer_weights']>\n"
     ]
    }
   ],
   "source": [
    "filename = \"/Users/landonblakey/UVA/S4/DS6011/models/CTG_nodel_weight.h5\"\n",
    "\n",
    "with h5py.File(filename, \"r\") as f:\n",
    "    # List all groups\n",
    "    print(\"Keys: %s\" % f.keys())\n",
    "    a_group_key = list(f.keys())[0]\n",
    "\n",
    "    # Get the data\n",
    "    data = dict(f[a_group_key])"
   ]
  },
  {
   "cell_type": "code",
   "execution_count": 27,
   "id": "9a80c9b7-f67b-421d-95ce-49557e230706",
   "metadata": {},
   "outputs": [
    {
     "data": {
      "text/plain": [
       "dict"
      ]
     },
     "execution_count": 27,
     "metadata": {},
     "output_type": "execute_result"
    }
   ],
   "source": [
    "type(data)"
   ]
  },
  {
   "cell_type": "code",
   "execution_count": 31,
   "id": "c163022a-1a05-4253-bb91-40fe59e7e922",
   "metadata": {},
   "outputs": [
    {
     "data": {
      "text/plain": [
       "<Closed HDF5 group>"
      ]
     },
     "execution_count": 31,
     "metadata": {},
     "output_type": "execute_result"
    }
   ],
   "source": [
    "data['activation']"
   ]
  },
  {
   "cell_type": "code",
   "execution_count": 32,
   "id": "f0f0871a-d027-43d1-961d-4446d6688712",
   "metadata": {},
   "outputs": [],
   "source": [
    "f = h5py.File(filename, \"r\")"
   ]
  },
  {
   "cell_type": "code",
   "execution_count": 33,
   "id": "00a233cb-91f5-4ecf-a8ed-66755c455fff",
   "metadata": {},
   "outputs": [
    {
     "data": {
      "text/plain": [
       "<KeysViewHDF5 ['model_weights', 'optimizer_weights']>"
      ]
     },
     "execution_count": 33,
     "metadata": {},
     "output_type": "execute_result"
    }
   ],
   "source": [
    "f.keys()"
   ]
  },
  {
   "cell_type": "code",
   "execution_count": 34,
   "id": "5bf5c444-7b0d-409e-9d85-87df560d26e0",
   "metadata": {},
   "outputs": [
    {
     "data": {
      "text/plain": [
       "<KeysViewHDF5 ['Adam']>"
      ]
     },
     "execution_count": 34,
     "metadata": {},
     "output_type": "execute_result"
    }
   ],
   "source": [
    "f['optimizer_weights'].keys()"
   ]
  },
  {
   "cell_type": "code",
   "execution_count": null,
   "id": "b5b41f34-70c1-4c74-8747-89bf0dc08339",
   "metadata": {},
   "outputs": [],
   "source": [
    " "
   ]
  }
 ],
 "metadata": {
  "kernelspec": {
   "display_name": "Python 3 (ipykernel)",
   "language": "python",
   "name": "python3"
  },
  "language_info": {
   "codemirror_mode": {
    "name": "ipython",
    "version": 3
   },
   "file_extension": ".py",
   "mimetype": "text/x-python",
   "name": "python",
   "nbconvert_exporter": "python",
   "pygments_lexer": "ipython3",
   "version": "3.9.2"
  }
 },
 "nbformat": 4,
 "nbformat_minor": 5
}
