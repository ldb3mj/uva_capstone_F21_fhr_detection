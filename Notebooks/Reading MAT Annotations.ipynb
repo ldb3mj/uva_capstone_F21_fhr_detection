{
 "cells": [
  {
   "cell_type": "code",
   "execution_count": 42,
   "id": "8102522f-a039-4f37-9d85-faaa527c3e3c",
   "metadata": {},
   "outputs": [],
   "source": [
    "import scipy.io\n",
    "import numpy as np\n",
    "\n",
    "mat = scipy.io.loadmat('../data/annotations/annotation_1001.mat')"
   ]
  },
  {
   "cell_type": "code",
   "execution_count": 57,
   "id": "e2869020-927a-4209-b214-fae907669fbf",
   "metadata": {},
   "outputs": [
    {
     "data": {
      "text/plain": [
       "array([array([], shape=(1, 0), dtype=float64),\n",
       "       array([], shape=(1, 0), dtype=float64),\n",
       "       array([], shape=(1, 0), dtype=float64),\n",
       "       array([], shape=(1, 0), dtype=float64),\n",
       "       array([], shape=(1, 0), dtype=float64),\n",
       "       array([], shape=(1, 0), dtype=float64),\n",
       "       array([], shape=(1, 0), dtype=float64),\n",
       "       array([], shape=(1, 0), dtype=float64),\n",
       "       array([], shape=(1, 0), dtype=float64)], dtype=object)"
      ]
     },
     "execution_count": 57,
     "metadata": {},
     "output_type": "execute_result"
    }
   ],
   "source": [
    "mat['ann'][3][14280:14289]"
   ]
  },
  {
   "cell_type": "code",
   "execution_count": 25,
   "id": "1eb8632f-c5f7-4e23-9f1e-01399d62dfdd",
   "metadata": {},
   "outputs": [],
   "source": [
    "brady, tachy, accel, decel, uc = np.hsplit(mat['ann'], 5)"
   ]
  },
  {
   "cell_type": "code",
   "execution_count": 26,
   "id": "88307a5e-1e50-4eb1-b0fb-574a36efcb8a",
   "metadata": {},
   "outputs": [],
   "source": [
    "import pandas as pd\n",
    "\n",
    "nrow, ncol = brady.shape\n",
    "\n",
    "brady = brady.reshape(1, nrow*ncol)"
   ]
  },
  {
   "cell_type": "code",
   "execution_count": 27,
   "id": "9414964c-2d39-4313-aa23-06fdcbfa5a46",
   "metadata": {},
   "outputs": [],
   "source": [
    "brady_df = pd.DataFrame(brady.T)"
   ]
  },
  {
   "cell_type": "code",
   "execution_count": 32,
   "id": "e833868c-b25a-4a33-a111-5713c6a3a397",
   "metadata": {},
   "outputs": [
    {
     "data": {
      "text/plain": [
       "'float64'"
      ]
     },
     "execution_count": 32,
     "metadata": {},
     "output_type": "execute_result"
    }
   ],
   "source": [
    "brady_df.loc[0,0].dtype.name"
   ]
  },
  {
   "cell_type": "code",
   "execution_count": 37,
   "id": "f4597946-b4c9-404b-b120-c0963b8948eb",
   "metadata": {},
   "outputs": [],
   "source": [
    "brady_df[0] = brady_df[0].map(lambda x: 0 if x.dtype.name == \"float64\" else x)"
   ]
  },
  {
   "cell_type": "code",
   "execution_count": 40,
   "id": "bf6effa2-045f-44f2-9a07-884c5fc5a32c",
   "metadata": {},
   "outputs": [
    {
     "data": {
      "text/plain": [
       "{0}"
      ]
     },
     "execution_count": 40,
     "metadata": {},
     "output_type": "execute_result"
    }
   ],
   "source": [
    "set(brady_df)"
   ]
  },
  {
   "cell_type": "code",
   "execution_count": null,
   "id": "7282b6e4-3570-414b-9bae-ad83350971af",
   "metadata": {},
   "outputs": [],
   "source": []
  }
 ],
 "metadata": {
  "kernelspec": {
   "display_name": "Python 3 (ipykernel)",
   "language": "python",
   "name": "python3"
  },
  "language_info": {
   "codemirror_mode": {
    "name": "ipython",
    "version": 3
   },
   "file_extension": ".py",
   "mimetype": "text/x-python",
   "name": "python",
   "nbconvert_exporter": "python",
   "pygments_lexer": "ipython3",
   "version": "3.9.2"
  }
 },
 "nbformat": 4,
 "nbformat_minor": 5
}
