{
 "cells": [
  {
   "cell_type": "code",
   "execution_count": 4,
   "id": "49d8f93a",
   "metadata": {},
   "outputs": [],
   "source": [
    "# imports\n",
    "import matplotlib.pyplot as plt \n",
    "%matplotlib inline\n",
    "import pandas as pd\n",
    "import glob\n",
    "import os\n",
    "import csv\n",
    "import re\n",
    "import more_itertools as mit"
   ]
  },
  {
   "cell_type": "code",
   "execution_count": null,
   "id": "93882724",
   "metadata": {},
   "outputs": [],
   "source": [
    "os.getcwd()"
   ]
  },
  {
   "cell_type": "code",
   "execution_count": null,
   "id": "20057d6d",
   "metadata": {},
   "outputs": [],
   "source": [
    "# extract all files in the annotation folder and write to a list\n",
    "path = \"../../data/annotations/csv/\"\n",
    "\n",
    "fileScanner = os.scandir(path)\n",
    "AnnFiles = []\n",
    "for file in fileScanner:\n",
    "    if file.is_file():\n",
    "        AnnFiles.append(file.name)"
   ]
  },
  {
   "cell_type": "code",
   "execution_count": null,
   "id": "a75fafd0",
   "metadata": {},
   "outputs": [],
   "source": [
    "# show one name\n",
    "AnnFiles[0:5]"
   ]
  },
  {
   "cell_type": "code",
   "execution_count": null,
   "id": "d48b4793",
   "metadata": {},
   "outputs": [],
   "source": [
    "# make sure path is correct\n",
    "f'../../data/annotations/csv/{AnnFiles[314]}'"
   ]
  },
  {
   "cell_type": "code",
   "execution_count": null,
   "id": "501dfc20",
   "metadata": {},
   "outputs": [],
   "source": [
    "# loop over each AnnFiles and transpose files as needed \n",
    "import time\n",
    "start_time = time.time()\n",
    "\n",
    "for i in range(len(AnnFiles)):\n",
    "    \n",
    "    try:\n",
    "    \n",
    "        df = pd.read_csv(f'../../data/annotations/csv/{AnnFiles[i]}', header=None)\n",
    "\n",
    "        if len(df) == 5: \n",
    "            df = df.T\n",
    "            df.to_csv(f'../../data/annotations/csv/{AnnFiles[i]}', header=False, index=False)\n",
    "\n",
    "        else:\n",
    "            continue\n",
    "    except:\n",
    "        \n",
    "        print(i)\n",
    "        \n",
    "print(\"--- %s seconds ---\" % (time.time() - start_time))"
   ]
  },
  {
   "cell_type": "code",
   "execution_count": 15,
   "id": "f8588ebc",
   "metadata": {},
   "outputs": [],
   "source": [
    "def delete_keys(d):\n",
    "\n",
    "        del_e = []\n",
    "        for event in d:\n",
    "                del_k = [[event, k] for k in d[event] if  (not ('start' in d[event][k] and 'stop' in d[event][k]))]\n",
    "                if not d[event]:\n",
    "                        del_e.append(event)\n",
    "        \n",
    "\n",
    "\n",
    "        for k in del_k: del d[k[0]][k[1]]\n",
    "        for e in del_e: del d[e]\n",
    "\n",
    "      \n",
    " "
   ]
  },
  {
   "cell_type": "code",
   "execution_count": 27,
   "id": "61f5b586",
   "metadata": {},
   "outputs": [],
   "source": [
    "\"\"\"Accessing and interacting with Record files\"\"\"\n",
    "\n",
    "class Record():\n",
    "    \"\"\"Class for interacting with record files\"\"\"\n",
    "\n",
    "    def __init__(self, record_name: str) -> None:\n",
    "        \"\"\"Initialzes the record class\"\"\"\n",
    "        self.record_name = record_name\n",
    "        # self.uc = {} \n",
    "        # self.dece = {}\n",
    "        # self.decv = {}\n",
    "        # self.decl = {}\n",
    "        # self.decp = {}\n",
    "        # self.acc = {}\n",
    "        # self.tc = {}\n",
    "        # self.bc = {}\n",
    "        self.ann = { 'UC': {},\n",
    "                     'DEC_EARLY': {},\n",
    "                     'DEC_VAR': {},\n",
    "                     'DEC_LATE': {},\n",
    "                     'DEC_PROLONG': {},\n",
    "                     'ACC': {},\n",
    "                     'TACHY': {},\n",
    "                     'BRADY': {}\n",
    "                     }\n",
    "\n",
    "        self.decel_map = {'E':'DEC_EARLY',\n",
    "              'V':'DEC_VAR',\n",
    "              'L':'DEC_LATE',\n",
    "              'P':'DEC_PROLONG'}\n",
    "\n",
    "\n",
    "        self._signalDf = pd.read_csv(f'../../data/database/signals/{record_name}.csv', na_values=['0.0'])\n",
    "\n",
    "        # Call to get annotations\n",
    "        self.__getannotations(self.record_name)\n",
    "\n",
    "        # call to static method to create uc_dict\n",
    "  \n",
    "\n",
    "\n",
    "    def __getannotations(self, record_name) -> None:\n",
    "        \"\"\"Gets the annotations from the annotation csv file\n",
    "        and populates the appropriate annotation list\"\"\"\n",
    "\n",
    "        \n",
    "        with open(f'../../data/annotations/csv/annotation_{record_name}.csv', newline='',\n",
    "        encoding='UTF-8') as csvfile:\n",
    "            annreader = csv.reader(csvfile, delimiter=',')\n",
    "            for i, row in enumerate(annreader):\n",
    "                                \n",
    "                joined_row = ''.join(row)\n",
    "                ##### transpose joined_row if data is in a single row\n",
    "                \n",
    "                if 'UC' in joined_row:\n",
    "                    for ann in re.findall(r'[\\(\\)]UC\\d+', joined_row):\n",
    "                        if ann[0] == '(':\n",
    "                            self.ann['UC'][ann[1:]] = {'start': i} \n",
    "                        if ann[0] == ')' and ann[1:] in self.ann['UC'].keys():\n",
    "                            self.ann['UC'][ann[1:]]['stop'] = i       \n",
    "                if 'DEC' in joined_row:\n",
    "                    for ann in re.findall(r'[\\(\\)]DEC\\w+', joined_row):\n",
    "                        if ann[0] == '(':\n",
    "                            self.ann[self.decel_map[ann[-1]]][ann[1:]] = {'start': i}\n",
    "                            # # self.dec[ann[1:]] = [i]  \n",
    "                            # self.dec[ann[-1]][ann[1:]] = [i] \n",
    "                        if ann[0] == ')' and ann[1:] in self.ann[self.decel_map[ann[-1]]].keys():\n",
    "                            self.ann[self.decel_map[ann[-1]]][ann[1:]]['stop'] = i\n",
    "                if 'ACC' in joined_row:\n",
    "                    for ann in re.findall(r'[\\(\\)]ACC\\d+', joined_row):\n",
    "                        if ann[0] == '(':\n",
    "                            self.ann['ACC'][ann[1:]] = {'start': i} \n",
    "                        if ann[0] == ')' and ann[1:] in self.ann['ACC'].keys():\n",
    "                            self.ann['ACC'][ann[1:]]['stop'] = i  \n",
    "                if 'TC' in joined_row:\n",
    "                    for ann in re.findall(r'[\\(\\)]TC\\d+', joined_row):\n",
    "                        if ann[0] == '(':\n",
    "                            self.ann['TACHY'][ann[1:]] = {'start': i}   \n",
    "                        if ann[0] == ')' and ann[1:] in self.ann['TACHY'].keys():\n",
    "                            self.ann['TACHY'][ann[1:]]['stop'] = i  \n",
    "                if 'BC' in joined_row:\n",
    "                    for ann in re.findall(r'[\\(\\)]BC\\d+', joined_row):\n",
    "                        if ann[0] == '(':\n",
    "                            self.ann['BRADY'][ann[1:]] = {'start': i}  \n",
    "                        if ann[0] == ')' and ann[1:] in self.ann['BRADY'].keys():\n",
    "                            self.ann['BRADY'][ann[1:]]['stop'] = i\n",
    "                \n",
    "        # for event in self.ann: delete_keys(self.ann[event])\n",
    "        delete_keys(self.ann)\n",
    "        self.add_labels()\n",
    "\n",
    "    def add_labels(self):\n",
    "\n",
    "        event_dict = { 'NONE': 0,\n",
    "                     'DEC_EARLY': 1,\n",
    "                     'DEC_VAR': 2,\n",
    "                     'DEC_LATE': 3,\n",
    "                     'DEC_PROLONG': 4,\n",
    "                     'ACC': 5,\n",
    "                     'TACHY': 6,\n",
    "                     'BRADY': 7\n",
    "        }\n",
    "\n",
    "\n",
    "        for uc_key in self.ann['UC']:\n",
    "            uc_start, uc_stop = (self.ann['UC'][uc_key]['start'],self.ann['UC'][uc_key]['stop'])\n",
    "\n",
    "            event_keys = list(self.ann.keys())\n",
    "            event_keys.remove('UC')\n",
    "            for event in event_keys:\n",
    "                for event_key in self.ann[event]:\n",
    "                    estart, estop = (self.ann[event][event_key]['start'],self.ann[event][event_key]['stop'])\n",
    "                    if (estart >= uc_start and estart < uc_stop) or (estop >= uc_start and estop < uc_stop):\n",
    "                        label = event_dict[event]\n",
    "                        self.ann['UC'][uc_key]['label'] = label\n",
    "                        # print(label)  \n",
    "            if not 'label' in self.ann['UC'][uc_key].keys():\n",
    "                self.ann['UC'][uc_key]['label'] = 0\n",
    "\n",
    "    def plotUC(self, ucNum: int):\n",
    "            plotNum = 'UC'+str(ucNum)\n",
    "            if plotNum in self.uc.keys():\n",
    "                start, end = self.uc[plotNum]\n",
    "                self.createPlot(start, end, plotNum)\n",
    "                plt.show()        \n",
    "\n",
    "    def createPlot(self, start: int, end: int, plotID: str):\n",
    "        \"\"\"Plots the UC contraction and FHR specified by ucNum\"\"\"\n",
    "        \n",
    "        x = self._signalDf['seconds'][start:end].to_numpy()\n",
    "        y_uc = self._signalDf['UC'][start:end].interpolate(method='linear').to_numpy()\n",
    "        y_fhr = self._signalDf['FHR'][start:end].interpolate(method='linear').to_numpy()\n",
    "\n",
    "#            y_uc = self._signalDf['UC'][start:end].to_numpy()\n",
    "#            y_fhr = self._signalDf['FHR'][start:end].to_numpy()\n",
    "        \n",
    "        # FHR subplot\n",
    "        fig, axs = plt.subplots(nrows=2, ncols=1, sharex=True)\n",
    "        axs[0].set_title(f'Record {self.record_name} {plotID}')\n",
    "        axs[0].plot(x, y_fhr, '#1f77b4')\n",
    "        axs[0].set_xlim(start+2, end+2)\n",
    "        axs[0].set_ylabel('FHR')\n",
    "        axs[0].set_ylim(0, 220)\n",
    "        # Uterine Contraction subplot\n",
    "        axs[1].plot(x, y_uc, '#ff7f0e')\n",
    "        axs[1].set_xlim(start+2, end+2)\n",
    "        axs[1].set_ylim(0, 140)\n",
    "        axs[1].set_ylabel('Uterine Contraction')\n",
    "        fig.set_size_inches(8, 4)\n",
    "\n",
    "    def _savePlot(self, start, end, plotID):\n",
    "#         \"\"\"Plots the UC contraction and FHR specified by ucNum\"\"\"\n",
    "#         plotNum = ucStr\n",
    "#         if plotNum in self.uc.keys():\n",
    "#             start, end = self.uc[plotNum]\n",
    "#             x = self._signalDf['seconds'][start:end].to_numpy()\n",
    "#             y_uc = self._signalDf['UC'][start:end].interpolate(method='linear').to_numpy()\n",
    "#             y_fhr = self._signalDf['FHR'][start:end].interpolate(method='linear').to_numpy()\n",
    "            \n",
    "#             fig, ax = plt.subplots(nrows=1, ncols=1)\n",
    "#             ax.set_title(f'Record {self.record_name} {plotNum}')\n",
    "#             ax.plot(x, y_uc, '#1f77b4', x, y_fhr, '#ff7f0e')\n",
    "#             ax.set_xlim(start+2, end+2)\n",
    "#             ax.set_ylim(0, 220)\n",
    "#             fig.set_size_inches(18, 8)\n",
    "\n",
    "            self.createPlot(start, end, plotID)\n",
    "\n",
    "            fig = plt.gcf()\n",
    "            fig.set_size_inches(18, 8)\n",
    "            fig.savefig(f\"../../data/images/record_{self.record_name}_{ucStr}.png\", bbox_inches='tight')\n",
    "            plt.close(fig)\n",
    "\n",
    "    def saveImages(self):\n",
    "        \"\"\"Saves the images in ../../data/images/{record_name}\"\"\"\n",
    "        missingdata = self.findMissing()\n",
    "        \n",
    "        for key in self.uc:\n",
    "            if int(key[2:]) not in missingdata:\n",
    "                start, end = self.uc[key]\n",
    "                self._savePlot(start, end, key)\n",
    "          \n",
    "        print(f\"Images for Record {self.record_name} have been saved.\")\n",
    "    \n",
    "                \n",
    "    def clearImages(self):\n",
    "        \"\"\"Deletes the images in ../../data/images/{record_name}\"\"\"\n",
    "        imgs = glob.glob(f'../../data/images/record_{self.record_name}/*.png', recursive=True)\n",
    "\n",
    "        for img in imgs:\n",
    "            try:\n",
    "                os.remove(img)\n",
    "            except OSError as e:\n",
    "                print(\"Error: %s : %s\" % (img, e.strerror))\n",
    "                \n",
    "    def findMissing(self):\n",
    "        NA_list = []\n",
    "\n",
    "        # gets all null index values within contraction times\n",
    "        for i in range(len(self.ann['UC'])):\n",
    "\n",
    "            annotation_start = list(self.ann['UC'].items())[i][1][0]\n",
    "            annotation_end = list(self.ann['UC'].items())[i][1][1]\n",
    "\n",
    "            rec_df = self._signalDf['FHR'][annotation_start:annotation_end]\n",
    "            NA_list.append(list(rec_df[rec_df.isna()].index))\n",
    "\n",
    "        # finds consecutive index of null values\n",
    "        null_list = []\n",
    "        for i in range(len(NA_list)): \n",
    "\n",
    "            temp_list = NA_list[i]\n",
    "            null_groups = [list(group) for group in mit.consecutive_groups(temp_list)] #gets consecutive numbers\n",
    "            null_list.append(null_groups)\n",
    "\n",
    "        # searches for over 15 seconds of consecutive loss\n",
    "        uc_list = []\n",
    "        for i1 in range((len(null_list))):\n",
    "            for i2 in range(len(null_list[i1])):\n",
    "                if len(null_list[i1][i2]) > 60:\n",
    "                    new_val = i1+1 # contraction with missing data\n",
    "                    uc_list.append(new_val)\n",
    "\n",
    "        return uc_list"
   ]
  },
  {
   "cell_type": "code",
   "execution_count": 28,
   "id": "a2c15e52",
   "metadata": {},
   "outputs": [
    {
     "data": {
      "text/plain": [
       "{'UC': {'UC1': {'start': 1694, 'stop': 1976, 'label': 0},\n",
       "  'UC2': {'start': 2519, 'stop': 2747, 'label': 0},\n",
       "  'UC4': {'start': 3102, 'stop': 3417, 'label': 0},\n",
       "  'UC3': {'start': 3739, 'stop': 3939, 'label': 0},\n",
       "  'UC5': {'start': 4800, 'stop': 4974, 'label': 0},\n",
       "  'UC6': {'start': 5458, 'stop': 5758, 'label': 0},\n",
       "  'UC7': {'start': 7068, 'stop': 7294, 'label': 0},\n",
       "  'UC8': {'start': 8743, 'stop': 9226, 'label': 0},\n",
       "  'UC9': {'start': 9828, 'stop': 9984, 'label': 0},\n",
       "  'UC10': {'start': 11164, 'stop': 11692, 'label': 0},\n",
       "  'UC11': {'start': 11833, 'stop': 11999, 'label': 0},\n",
       "  'UC12': {'start': 12320, 'stop': 12422, 'label': 0},\n",
       "  'UC13': {'start': 12621, 'stop': 12698, 'label': 1},\n",
       "  'UC14': {'start': 12911, 'stop': 13004, 'label': 0},\n",
       "  'UC15': {'start': 13176, 'stop': 13277, 'label': 0},\n",
       "  'UC16': {'start': 13715, 'stop': 13951, 'label': 5},\n",
       "  'UC17': {'start': 14039, 'stop': 14303, 'label': 5},\n",
       "  'UC18': {'start': 14400, 'stop': 14777, 'label': 0},\n",
       "  'UC19': {'start': 14879, 'stop': 15169, 'label': 0},\n",
       "  'UC20': {'start': 15293, 'stop': 15454, 'label': 0}},\n",
       " 'DEC_EARLY': {'DEC3E': {'start': 12494, 'stop': 12656}},\n",
       " 'DEC_VAR': {'DEC1V': {'start': 4996, 'stop': 5209},\n",
       "  'DEC2V': {'start': 10146, 'stop': 10362},\n",
       "  'DEC5V': {'start': 16267, 'stop': 16498}},\n",
       " 'DEC_PROLONG': {'DEC4P': {'start': 14189, 'stop': 15265}},\n",
       " 'ACC': {'ACC1': {'start': 12735, 'stop': 12854},\n",
       "  'ACC2': {'start': 13112, 'stop': 13298},\n",
       "  'ACC3': {'start': 13386, 'stop': 13487},\n",
       "  'ACC4': {'start': 13553, 'stop': 13676},\n",
       "  'ACC5': {'start': 13768, 'stop': 13911},\n",
       "  'ACC6': {'start': 13932, 'stop': 14148},\n",
       "  'ACC7': {'start': 15266, 'stop': 15856},\n",
       "  'ACC8': {'start': 15909, 'stop': 16266},\n",
       "  'ACC9': {'start': 16547, 'stop': 16795}}}"
      ]
     },
     "execution_count": 28,
     "metadata": {},
     "output_type": "execute_result"
    }
   ],
   "source": [
    "### testing - HK\n",
    "\n",
    "rec = Record('1035')\n",
    "rec.ann"
   ]
  },
  {
   "cell_type": "code",
   "execution_count": null,
   "id": "fbca3436",
   "metadata": {},
   "outputs": [],
   "source": [
    "if not rec.ann['TACHY']:\n",
    "    print('Y')"
   ]
  },
  {
   "cell_type": "code",
   "execution_count": null,
   "id": "0954c331",
   "metadata": {},
   "outputs": [],
   "source": [
    "rec.plotUC(17)"
   ]
  },
  {
   "cell_type": "code",
   "execution_count": null,
   "id": "980f57af",
   "metadata": {},
   "outputs": [],
   "source": [
    "record_dict = rec.ann\n",
    "\n",
    "uc_start, uc_stop = record_dict['UC']['UC13']\n",
    "\n",
    "# NONE - 0\n",
    "# ACC  - 1\n",
    "# DECE - 2\n",
    "# DECV - 3\n",
    "# DECL - 4\n",
    "# DECP - 5\n",
    "\n",
    "label = 0\n",
    "event_dict = {'E':2,\n",
    "              'V':3,\n",
    "              'L':4,\n",
    "              'P':5}\n",
    "\n",
    "\n",
    "\n",
    "def add_labels(self.ann):\n",
    "for key in record_dict[\"DEC\"]:\n",
    "    for dec in record_dict[\"DEC\"][key]:\n",
    "        estart, estop = record_dict[\"DEC\"][key][dec]\n",
    "        if (estart >= uc_start and estart < uc_stop) or (estop >= uc_start and estop < uc_stop):\n",
    "            label = event_dict[key]\n",
    "            self.ann['UC'][]\n",
    "            print(label)  \n",
    "      "
   ]
  },
  {
   "cell_type": "code",
   "execution_count": null,
   "id": "49b958ed",
   "metadata": {},
   "outputs": [],
   "source": [
    "record_numbers = list(map(lambda i: i[11:-4], AnnFiles))\n",
    "\n",
    "error_list = []\n",
    "for i in record_numbers:\n",
    "    try: \n",
    "        rec = Record(i)\n",
    "        rec.saveImages()\n",
    "\n",
    "        del rec\n",
    "    except:\n",
    "        error_list.append(i)"
   ]
  },
  {
   "cell_type": "code",
   "execution_count": null,
   "id": "3caa4fa0",
   "metadata": {},
   "outputs": [],
   "source": [
    "# deletes bad records (printed above from the loop)\n",
    "del AnnFiles[80] #DS.store\n",
    "del AnnFiles[433] #1314 "
   ]
  },
  {
   "cell_type": "code",
   "execution_count": null,
   "id": "07c94497",
   "metadata": {},
   "outputs": [],
   "source": [
    "# get record numbers\n",
    "record_numbers = list(map(lambda i: i[11:-4], AnnFiles))\n",
    "len(record_numbers)"
   ]
  },
  {
   "cell_type": "code",
   "execution_count": null,
   "id": "530acafe",
   "metadata": {
    "scrolled": true
   },
   "outputs": [],
   "source": [
    "# gets every single plot (just prints - need to figure out how to save)\n",
    "\n",
    "error_list = [] # no errors\n",
    "for i in record_numbers:\n",
    "    rec = Record(str(i))\n",
    "    uc_num = len(rec.ann['UC'])\n",
    "    try: \n",
    "        for i in range(uc_num): \n",
    "            rec.plotUC(i)\n",
    "    except:\n",
    "        error_list.append(i)"
   ]
  },
  {
   "cell_type": "code",
   "execution_count": null,
   "id": "f95348d4",
   "metadata": {},
   "outputs": [],
   "source": [
    "# UCs over 100 (1172 UC21)\n",
    "\n",
    "rec = Record('1172')\n",
    "rec.plotUC(21)"
   ]
  },
  {
   "cell_type": "code",
   "execution_count": null,
   "id": "8a1e3a00",
   "metadata": {},
   "outputs": [],
   "source": [
    "rec._signalDf['UC'].max() # can we show above 100?? current y-limit at 100"
   ]
  },
  {
   "cell_type": "code",
   "execution_count": null,
   "id": "89a5de2e",
   "metadata": {},
   "outputs": [],
   "source": [
    "# missing data - 15 consecutive seconds of data loss for UC or FHR (1018 UC21)\n",
    "rec = Record('1018')\n",
    "\n",
    "for i in range(len(list(rec.ann['UC']))):\n",
    "    rec.plotUC(i)"
   ]
  },
  {
   "cell_type": "code",
   "execution_count": null,
   "id": "1094690c",
   "metadata": {},
   "outputs": [],
   "source": [
    "def findMissing(record):\n",
    "    rec = Record(str(record))\n",
    "\n",
    "    NA_list = []\n",
    "\n",
    "    # gets all null index values within contraction times\n",
    "    for i in range(len(rec.ann['UC'])):\n",
    "\n",
    "        annotation_start = list(rec.ann['UC'].items())[i][1][0]\n",
    "        annotation_end = list(rec.ann['UC'].items())[i][1][1]\n",
    "\n",
    "        rec_df = rec._signalDf['FHR'][annotation_start:annotation_end]\n",
    "        NA_list.append(list(rec_df[rec_df.isna()].index))\n",
    "\n",
    "    import more_itertools as mit\n",
    "\n",
    "    # finds consecutive index of null values\n",
    "    null_list = []\n",
    "    for i in range(len(NA_list)): \n",
    "\n",
    "        temp_list = NA_list[i]\n",
    "        null_groups = [list(group) for group in mit.consecutive_groups(temp_list)] #gets consecutive numbers\n",
    "        null_list.append(null_groups)\n",
    "\n",
    "    # searches for over 15 seconds of consecutive loss\n",
    "    uc_list = []\n",
    "    for i1 in range((len(null_list))):\n",
    "        for i2 in range(len(null_list[i1])):\n",
    "            if len(null_list[i1][i2]) > 60:\n",
    "                new_val = i1+1 # contraction with missing data\n",
    "                uc_list.append(new_val)\n",
    "                \n",
    "    return uc_list"
   ]
  },
  {
   "cell_type": "code",
   "execution_count": null,
   "id": "049093a0",
   "metadata": {},
   "outputs": [],
   "source": [
    "findMissing(1001)"
   ]
  },
  {
   "cell_type": "code",
   "execution_count": null,
   "id": "8ccea93a",
   "metadata": {},
   "outputs": [],
   "source": []
  },
  {
   "cell_type": "code",
   "execution_count": null,
   "id": "6fb7064f",
   "metadata": {},
   "outputs": [],
   "source": []
  },
  {
   "cell_type": "code",
   "execution_count": null,
   "id": "f5894a70",
   "metadata": {},
   "outputs": [],
   "source": []
  },
  {
   "cell_type": "code",
   "execution_count": null,
   "id": "30a19960",
   "metadata": {},
   "outputs": [],
   "source": []
  },
  {
   "cell_type": "code",
   "execution_count": null,
   "id": "6d514c93",
   "metadata": {},
   "outputs": [],
   "source": []
  },
  {
   "cell_type": "code",
   "execution_count": null,
   "id": "1e3f27dd",
   "metadata": {},
   "outputs": [],
   "source": []
  },
  {
   "cell_type": "code",
   "execution_count": null,
   "id": "26bb95a1",
   "metadata": {},
   "outputs": [],
   "source": []
  },
  {
   "cell_type": "code",
   "execution_count": null,
   "id": "3fdbe87a",
   "metadata": {},
   "outputs": [],
   "source": []
  },
  {
   "cell_type": "code",
   "execution_count": null,
   "id": "5d8cb331",
   "metadata": {},
   "outputs": [],
   "source": [
    "rec.ann['UC']"
   ]
  },
  {
   "cell_type": "code",
   "execution_count": null,
   "id": "4846343f",
   "metadata": {},
   "outputs": [],
   "source": [
    "int_df = rec._signalDf.interpolate(method='linear')"
   ]
  },
  {
   "cell_type": "code",
   "execution_count": null,
   "id": "cec80219",
   "metadata": {},
   "outputs": [],
   "source": [
    "rec._signalDf = int_df"
   ]
  },
  {
   "cell_type": "code",
   "execution_count": null,
   "id": "7940d40c",
   "metadata": {},
   "outputs": [],
   "source": [
    "rec.plotUC(5)"
   ]
  },
  {
   "cell_type": "code",
   "execution_count": null,
   "id": "c37c8e32",
   "metadata": {},
   "outputs": [],
   "source": [
    "rec.acc"
   ]
  },
  {
   "cell_type": "code",
   "execution_count": null,
   "id": "c7b0752d",
   "metadata": {},
   "outputs": [],
   "source": [
    "import numpy as np\n",
    "from scipy.interpolate import interp1d\n",
    "uc = rec1001._signalDf['UC']\n",
    "fhr = rec1001._signalDf['FHR']\n",
    "# uc.interpolate(method='spline', order=3)\n",
    "# uc\n"
   ]
  },
  {
   "cell_type": "code",
   "execution_count": null,
   "id": "bfce91c7",
   "metadata": {},
   "outputs": [],
   "source": [
    "uc.last_valid_index()"
   ]
  },
  {
   "cell_type": "code",
   "execution_count": null,
   "id": "648211d4",
   "metadata": {},
   "outputs": [],
   "source": [
    "#fhr.iloc[19017]"
   ]
  },
  {
   "cell_type": "code",
   "execution_count": null,
   "id": "ce0cac92",
   "metadata": {},
   "outputs": [],
   "source": [
    "uc.iloc[14938]"
   ]
  },
  {
   "cell_type": "code",
   "execution_count": null,
   "id": "51774366",
   "metadata": {},
   "outputs": [],
   "source": [
    "rec1018._signalDf"
   ]
  },
  {
   "cell_type": "code",
   "execution_count": null,
   "id": "918af037",
   "metadata": {},
   "outputs": [],
   "source": [
    "\n",
    "rec1018._signalDf['UC'] = pd.Series(np.interp(np.flatnonzero(t), np.flatnonzero(~t), uc[~t]))"
   ]
  },
  {
   "cell_type": "code",
   "execution_count": null,
   "id": "f24b233b",
   "metadata": {},
   "outputs": [],
   "source": [
    "rec1018._signalDf"
   ]
  },
  {
   "cell_type": "code",
   "execution_count": null,
   "id": "14d48c81",
   "metadata": {},
   "outputs": [],
   "source": [
    "rec1001.plotUC(2)"
   ]
  },
  {
   "cell_type": "code",
   "execution_count": null,
   "id": "71ecd20a",
   "metadata": {},
   "outputs": [],
   "source": [
    "rec1018.clearImages()"
   ]
  },
  {
   "cell_type": "code",
   "execution_count": null,
   "id": "88474ba9",
   "metadata": {},
   "outputs": [],
   "source": [
    "rec1018.saveImages()"
   ]
  },
  {
   "cell_type": "code",
   "execution_count": null,
   "id": "0243bae4",
   "metadata": {},
   "outputs": [],
   "source": [
    "record_nums = map(lambda x: x[-8:-4], os.listdir(\"../../data/annotations/csv\"))\n",
    "img_dirs = list(map(lambda x: x[-4:], glob.glob(f'../../data/images/*', recursive=False)))"
   ]
  },
  {
   "cell_type": "code",
   "execution_count": null,
   "id": "a7c457ff",
   "metadata": {},
   "outputs": [],
   "source": [
    "for rec in record_nums:\n",
    "    if rec in img_dirs:\n",
    "        record = Record(rec)\n",
    "        record.clearImages()\n",
    "        record.saveImages()\n",
    "        del record"
   ]
  }
 ],
 "metadata": {
  "interpreter": {
   "hash": "5f98ab4d6997b79ab237938bd7519f3a90819f03050b38330d6a9fea86900d5c"
  },
  "kernelspec": {
   "display_name": "Python 3 (ipykernel)",
   "language": "python",
   "name": "python3"
  },
  "language_info": {
   "codemirror_mode": {
    "name": "ipython",
    "version": 3
   },
   "file_extension": ".py",
   "mimetype": "text/x-python",
   "name": "python",
   "nbconvert_exporter": "python",
   "pygments_lexer": "ipython3",
   "version": "3.9.2"
  }
 },
 "nbformat": 4,
 "nbformat_minor": 5
}
