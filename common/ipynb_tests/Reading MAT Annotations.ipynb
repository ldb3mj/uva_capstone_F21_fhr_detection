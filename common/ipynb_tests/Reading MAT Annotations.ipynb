{
 "cells": [
  {
   "cell_type": "code",
   "execution_count": 3,
   "id": "23c39efa",
   "metadata": {},
   "outputs": [],
   "source": [
    "def delete_keys(d):\n",
    "        del_k = [k for k in d if len(d[k]) != 2]\n",
    "        for k in del_k: del d[k] "
   ]
  },
  {
   "cell_type": "code",
   "execution_count": 1,
   "id": "cdda6737",
   "metadata": {},
   "outputs": [],
   "source": [
    "\"\"\"Accessing and interacting with Record files\"\"\"\n",
    "# imports\n",
    "import matplotlib.pyplot as plt \n",
    "%matplotlib inline\n",
    "import pandas as pd\n",
    "import glob\n",
    "import os\n",
    "import csv\n",
    "\n",
    "class Record():\n",
    "    \"\"\"Class for interacting with record files\"\"\"\n",
    "\n",
    "    def __init__(self, record_name: str) -> None:\n",
    "        \"\"\"Initialzes the record class\"\"\"\n",
    "        self.record_name = record_name\n",
    "        self.uc = {} \n",
    "        self.dec = {}\n",
    "        self.acc = {}\n",
    "        self.tc = {}\n",
    "        self.bc = {}\n",
    "        self._signalDf = pd.read_csv(f'../../data/database/signals/{record_name}.csv', na_values=['0.0'])\n",
    "\n",
    "        # Call to get annotations\n",
    "        self.__getannotations(self.record_name)\n",
    "\n",
    "        # call to static method to create uc_dict\n",
    "    \n",
    "\n",
    "\n",
    "    def __getannotations(self, record_name) -> None:\n",
    "        \"\"\"Gets the annotations from the annotation csv file\n",
    "        and populates the appropriate annotation list\"\"\"\n",
    "\n",
    "        with open(f'../../data/annotations/csv/annotation_{record_name}.csv', newline='',\n",
    "        encoding='UTF-8') as csvfile:\n",
    "            annreader = csv.reader(csvfile, delimiter=',')\n",
    "            for i, row in enumerate(annreader):\n",
    "                joined_row = ''.join(row)\n",
    "                if 'UC' in joined_row:\n",
    "                    if joined_row[0] == '(':\n",
    "                        self.uc[joined_row[1:]] = [i]\n",
    "                    if joined_row[0] == ')' and joined_row[1:] in self.uc.keys():\n",
    "                        self.uc[joined_row[1:]].append(i)\n",
    "                    \n",
    "    \n",
    "                if 'DEC' in joined_row:\n",
    "                    if joined_row[0] == '(':\n",
    "                        self.dec[joined_row[1:]] = [i]\n",
    "                    if joined_row[0] == ')' and joined_row[1:] in self.dec.keys():\n",
    "                        self.dec[joined_row[1:]].append(i)\n",
    "                if 'ACC' in joined_row:\n",
    "                    if joined_row[0] == '(':\n",
    "                        self.acc[joined_row[1:]] = [i]\n",
    "                    if joined_row[0] == ')' and joined_row[1:] in self.acc.keys():\n",
    "                        self.acc[joined_row[1:]].append(i)\n",
    "                if 'TC' in joined_row:\n",
    "                    if joined_row[0] == '(':\n",
    "                        self.tc[joined_row[1:]] = [i]\n",
    "                    if joined_row[0] == ')' and joined_row[1:] in self.tc.keys():\n",
    "                        self.tc[joined_row[1:]].append(i)\n",
    "                if 'BC' in joined_row:\n",
    "                    if joined_row[0] == '(':\n",
    "                        self.bc[joined_row[1:]] = [i]\n",
    "                    if joined_row[0] == ')' and joined_row[1:] in self.bc.keys():\n",
    "                        self.bc[joined_row[1:]].append(i)\n",
    "                \n",
    "        for d in [self.uc, self.dec, self.acc, self.tc, self.bc]: delete_keys(d) \n",
    "\n",
    "    def plotUC(self, ucNum: int):\n",
    "        \"\"\"Plots the UC contraction and FHR specified by ucNum\"\"\"\n",
    "        plotNum = 'UC'+str(ucNum)\n",
    "        if plotNum in self.uc.keys():\n",
    "            start, end = self.uc[plotNum]\n",
    "            x = self._signalDf['seconds'][start:end].to_numpy()\n",
    "            y_uc = self._signalDf['UC'][start:end].to_numpy()\n",
    "            y_fhr = self._signalDf['FHR'][start:end].to_numpy()\n",
    "\n",
    "            fig, ax = plt.subplots(nrows=1, ncols=1)\n",
    "            ax.set_title(f'Record {self.record_name} {plotNum}')\n",
    "            ax.plot(x, y_uc, '#1f77b4', x, y_fhr, '#ff7f0e')\n",
    "            ax.set_xlim(start+2, end+2)\n",
    "            ax.set_ylim(0, 200)\n",
    "            fig.set_size_inches(18, 8)\n",
    "\n",
    "            plt.show()\n",
    "\n",
    "\n",
    "    def _savePlot(self, ucStr):\n",
    "        \"\"\"Plots the UC contraction and FHR specified by ucNum\"\"\"\n",
    "        plotNum = ucStr\n",
    "        if plotNum in self.uc.keys():\n",
    "            start, end = self.uc[plotNum]\n",
    "            x = self._signalDf['seconds'][start:end].to_numpy()\n",
    "            y_uc = self._signalDf['UC'][start:end].to_numpy()\n",
    "            y_fhr = self._signalDf['FHR'][start:end].to_numpy()\n",
    "            \n",
    "            fig, ax = plt.subplots(nrows=1, ncols=1)\n",
    "            ax.set_title(f'Record {self.record_name} {plotNum}')\n",
    "            ax.plot(x, y_uc, '#1f77b4', x, y_fhr, '#ff7f0e')\n",
    "            ax.set_xlim(start+2, end+2)\n",
    "            ax.set_ylim(0, 220)\n",
    "            fig.set_size_inches(18, 8)\n",
    "\n",
    "            fig = plt.gcf()\n",
    "            fig.set_size_inches(18, 8)\n",
    "            fig.savefig(f\"../../data/images/record_{self.record_name}/{plotNum}.png\", bbox_inches='tight')\n",
    "            plt.close(fig)\n",
    "\n",
    "    def saveImages(self):\n",
    "        \"\"\"Saves the images in ../../data/images/{record_name}\"\"\"\n",
    "        for key, val in self.uc_pairs.items():\n",
    "            self._savePlot(val, key)\n",
    "        print(f\"Images for Record {self.record_name} have been saved.\")\n",
    "                \n",
    "    def clearImages(self):\n",
    "        \"\"\"Deletes the images in ../../data/images/{record_name}\"\"\"\n",
    "        imgs = glob.glob(f'../../data/images/record_{self.record_name}/*.png', recursive=True)\n",
    "\n",
    "        for img in imgs:\n",
    "            try:\n",
    "                os.remove(img)\n",
    "            except OSError as e:\n",
    "                print(\"Error: %s : %s\" % (img, e.strerror))"
   ]
  },
  {
   "cell_type": "code",
   "execution_count": 32,
   "id": "3e7b9611",
   "metadata": {},
   "outputs": [],
   "source": [
    "rec1001 = Record('1315')"
   ]
  },
  {
   "cell_type": "code",
   "execution_count": 33,
   "id": "31caa2c0",
   "metadata": {},
   "outputs": [
    {
     "data": {
      "text/plain": [
       "{}"
      ]
     },
     "execution_count": 33,
     "metadata": {},
     "output_type": "execute_result"
    }
   ],
   "source": [
    "rec1001.dec"
   ]
  },
  {
   "cell_type": "code",
   "execution_count": 20,
   "id": "b7246b53",
   "metadata": {},
   "outputs": [],
   "source": [
    "int_df = rec1001._signalDf.interpolate(method='linear')"
   ]
  },
  {
   "cell_type": "code",
   "execution_count": 21,
   "id": "c09e8c28",
   "metadata": {},
   "outputs": [],
   "source": [
    "rec1001._signalDf = int_df"
   ]
  },
  {
   "cell_type": "code",
   "execution_count": 24,
   "id": "184b48f3",
   "metadata": {},
   "outputs": [
    {
     "data": {
      "image/png": "[encoded data removed]",
      "text/plain": [
       "<Figure size 1296x576 with 1 Axes>"
      ]
     },
     "metadata": {
      "needs_background": "light"
     },
     "output_type": "display_data"
    }
   ],
   "source": [
    "rec1001.plotUC(5)"
   ]
  },
  {
   "cell_type": "code",
   "execution_count": 10,
   "id": "a24f7af7",
   "metadata": {},
   "outputs": [
    {
     "data": {
      "text/plain": [
       "{'ACC1': [3313, 3735]}"
      ]
     },
     "execution_count": 10,
     "metadata": {},
     "output_type": "execute_result"
    }
   ],
   "source": [
    "rec1001.acc"
   ]
  },
  {
   "cell_type": "code",
   "execution_count": null,
   "id": "77254e7d",
   "metadata": {},
   "outputs": [],
   "source": []
  },
  {
   "cell_type": "code",
   "execution_count": null,
   "id": "418160a8",
   "metadata": {},
   "outputs": [],
   "source": [
    "import numpy as np\n",
    "from scipy.interpolate import interp1d\n",
    "uc = rec1001._signalDf['UC']\n",
    "fhr = rec1001._signalDf['FHR']\n",
    "# uc.interpolate(method='spline', order=3)\n",
    "# uc\n"
   ]
  },
  {
   "cell_type": "code",
   "execution_count": null,
   "id": "94e6f54a",
   "metadata": {},
   "outputs": [],
   "source": [
    "uc.last_valid_index()"
   ]
  },
  {
   "cell_type": "code",
   "execution_count": null,
   "id": "57522c13",
   "metadata": {},
   "outputs": [],
   "source": [
    "fhr.iloc[19017]"
   ]
  },
  {
   "cell_type": "code",
   "execution_count": null,
   "id": "db0a3637",
   "metadata": {},
   "outputs": [],
   "source": [
    "uc.iloc[14938]"
   ]
  },
  {
   "cell_type": "code",
   "execution_count": null,
   "id": "c606a55e",
   "metadata": {},
   "outputs": [],
   "source": [
    "rec1018._signalDf"
   ]
  },
  {
   "cell_type": "code",
   "execution_count": null,
   "id": "c1aa6d87",
   "metadata": {},
   "outputs": [],
   "source": [
    "\n",
    "rec1018._signalDf['UC'] = pd.Series(np.interp(np.flatnonzero(t), np.flatnonzero(~t), uc[~t]))"
   ]
  },
  {
   "cell_type": "code",
   "execution_count": null,
   "id": "0c3967ae",
   "metadata": {},
   "outputs": [],
   "source": [
    "rec1018._signalDf"
   ]
  },
  {
   "cell_type": "code",
   "execution_count": null,
   "id": "a4b972c8",
   "metadata": {},
   "outputs": [],
   "source": [
    "rec1001.plotUC(2)"
   ]
  },
  {
   "cell_type": "code",
   "execution_count": null,
   "id": "a073ff43",
   "metadata": {},
   "outputs": [],
   "source": [
    "rec1018.clearImages()"
   ]
  },
  {
   "cell_type": "code",
   "execution_count": null,
   "id": "8f967aec-b073-4f13-8c80-0de8c0d68d76",
   "metadata": {},
   "outputs": [],
   "source": [
    "rec1018.saveImages()"
   ]
  },
  {
   "cell_type": "code",
   "execution_count": null,
   "id": "7ad96b0e",
   "metadata": {},
   "outputs": [],
   "source": [
    "record_nums = map(lambda x: x[-8:-4], os.listdir(\"../../data/annotations/csv\"))\n",
    "img_dirs = list(map(lambda x: x[-4:], glob.glob(f'../../data/images/*', recursive=False)))"
   ]
  },
  {
   "cell_type": "code",
   "execution_count": null,
   "id": "b770d743",
   "metadata": {},
   "outputs": [],
   "source": [
    "for rec in record_nums:\n",
    "    if rec in img_dirs:\n",
    "        record = Record(rec)\n",
    "        record.clearImages()\n",
    "        record.saveImages()\n",
    "        del record"
   ]
  }
 ],
 "metadata": {
  "interpreter": {
   "hash": "5f98ab4d6997b79ab237938bd7519f3a90819f03050b38330d6a9fea86900d5c"
  },
  "kernelspec": {
   "display_name": "Python 3 (ipykernel)",
   "language": "python",
   "name": "python3"
  },
  "language_info": {
   "codemirror_mode": {
    "name": "ipython",
    "version": 3
   },
   "file_extension": ".py",
   "mimetype": "text/x-python",
   "name": "python",
   "nbconvert_exporter": "python",
   "pygments_lexer": "ipython3",
   "version": "3.9.2"
  }
 },
 "nbformat": 4,
 "nbformat_minor": 5
}
