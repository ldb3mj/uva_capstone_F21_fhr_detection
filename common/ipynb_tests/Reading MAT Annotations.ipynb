{
 "cells": [
  {
   "cell_type": "code",
   "execution_count": 1,
   "id": "cdda6737",
   "metadata": {},
   "outputs": [],
   "source": [
    "\"\"\"Accessing and interacting with Record files\"\"\"\n",
    "# imports\n",
    "import matplotlib.pyplot as plt \n",
    "%matplotlib inline\n",
    "import pandas as pd\n",
    "import glob\n",
    "import os\n",
    "import csv\n",
    "\n",
    "class Record():\n",
    "    \"\"\"Class for interacting with record files\"\"\"\n",
    "\n",
    "    def __init__(self, record_name: str) -> None:\n",
    "        \"\"\"Initialzes the record class\"\"\"\n",
    "        self.record_name = record_name\n",
    "        self.uc_list = []\n",
    "        self.dec_list = []\n",
    "        self.acc_list = []\n",
    "        self.tachy_list = []\n",
    "        self.brady_list = []\n",
    "        self._signalDf = pd.read_csv(f'../../data/database/signals/{record_name}.csv', na_values=['0.0'])\n",
    "\n",
    "        # Call to get annotations\n",
    "        self.__getannotations(self.record_name)\n",
    "\n",
    "        # call to static method to create uc_dict\n",
    "        self.uc_pairs = self.uc_list_to_dict(self.uc_list)        \n",
    "\n",
    "    def __getannotations(self, record_name) -> None:\n",
    "        \"\"\"Gets the annotations from the annotation csv file\n",
    "        and populates the appropriate annotation list\"\"\"\n",
    "\n",
    "        with open(f'../../data/annotations/csv/annotation_{record_name}.csv', newline='',\n",
    "        encoding='UTF-8') as csvfile:\n",
    "            annreader = csv.reader(csvfile, delimiter=',')\n",
    "            for i, row in enumerate(annreader):\n",
    "                joined_row = ''.join(row)\n",
    "                if 'UC' in joined_row:\n",
    "                    self.uc_list.append((i, joined_row))\n",
    "                if 'DEC' in joined_row:\n",
    "                    self.dec_list.append((i, joined_row))\n",
    "                if 'ACC' in joined_row:\n",
    "                    self.acc_list.append((i, joined_row))\n",
    "                if 'TC' in joined_row:\n",
    "                    self.tachy_list.append((i, joined_row))\n",
    "                if 'BC' in joined_row:\n",
    "                    self.brady_list.append((i, joined_row))\n",
    "\n",
    "    def plotUC(self, ucNum: int):\n",
    "        \"\"\"Plots the UC contraction and FHR specified by ucNum\"\"\"\n",
    "        plotNum = 'UC'+str(ucNum)\n",
    "        if plotNum in self.uc_pairs.keys():\n",
    "            start, end = self.uc_pairs[plotNum]\n",
    "            x = self._signalDf['seconds'][start:end].to_numpy()\n",
    "            y_uc = self._signalDf['UC'][start:end].to_numpy()\n",
    "            y_fhr = self._signalDf['FHR'][start:end].to_numpy()\n",
    "\n",
    "            fig, ax = plt.subplots(nrows=1, ncols=1)\n",
    "            ax.set_title(f'Record {self.record_name} {plotNum}')\n",
    "            ax.plot(x, y_uc, '#1f77b4', x, y_fhr, '#ff7f0e')\n",
    "            ax.set_xlim(start+2, end+2)\n",
    "            ax.set_ylim(0, 200)\n",
    "            fig.set_size_inches(18, 8)\n",
    "\n",
    "            plt.show()\n",
    "\n",
    "\n",
    "    def _savePlot(self, ucStr):\n",
    "        \"\"\"Plots the UC contraction and FHR specified by ucNum\"\"\"\n",
    "        plotNum = ucStr\n",
    "        if plotNum in self.uc_pairs.keys():\n",
    "            start, end = self.uc_pairs[plotNum]\n",
    "            x = self._signalDf['seconds'][start:end].to_numpy()\n",
    "            y_uc = self._signalDf['UC'][start:end].to_numpy()\n",
    "            y_fhr = self._signalDf['FHR'][start:end].to_numpy()\n",
    "            \n",
    "            fig, ax = plt.subplots(nrows=1, ncols=1)\n",
    "            ax.set_title(f'Record {self.record_name} {plotNum}')\n",
    "            ax.plot(x, y_uc, '#1f77b4', x, y_fhr, '#ff7f0e')\n",
    "            ax.set_xlim(start+2, end+2)\n",
    "            ax.set_ylim(0, 200)\n",
    "            fig.set_size_inches(18, 8)\n",
    "\n",
    "            fig = plt.gcf()\n",
    "            fig.set_size_inches(18, 8)\n",
    "            fig.savefig(f\"../../data/images/record_{self.record_name}/{plotNum}.png\", bbox_inches='tight')\n",
    "            plt.close(fig)\n",
    "\n",
    "    def saveImages(self):\n",
    "        \"\"\"Saves the images in ../../data/images/{record_name}\"\"\"\n",
    "        for key, val in self.uc_pairs.items():\n",
    "            self._savePlot(val, key)\n",
    "        print(f\"Images for Record {self.record_name} have been saved.\")\n",
    "                \n",
    "    def clearImages(self):\n",
    "        \"\"\"Deletes the images in ../../data/images/{record_name}\"\"\"\n",
    "        imgs = glob.glob(f'../../data/images/record_{self.record_name}/*.png', recursive=True)\n",
    "\n",
    "        for img in imgs:\n",
    "            try:\n",
    "                os.remove(img)\n",
    "            except OSError as e:\n",
    "                print(\"Error: %s : %s\" % (img, e.strerror))\n",
    "            \n",
    "    @staticmethod\n",
    "    def uc_list_to_dict(uc_list: list) -> dict:\n",
    "        \"\"\"Converts list to dict and removes all unmatched UCs (due to signal loss)\"\"\"\n",
    "        uc_dict = {}\n",
    "        size = len(uc_list) - 1\n",
    "        for i, _ in enumerate(uc_list):\n",
    "            if i + 1 > size:\n",
    "                break\n",
    "            if uc_list[i][1][1:] == uc_list[i+1][1][1:]:\n",
    "                uc_dict[uc_list[i][1][1:]] = (uc_list[i][0], uc_list[i+1][0])\n",
    "                i += 1\n",
    "\n",
    "        return uc_dict"
   ]
  },
  {
   "cell_type": "code",
   "execution_count": 1,
   "id": "23c39efa",
   "metadata": {},
   "outputs": [
    {
     "ename": "ModuleNotFoundError",
     "evalue": "No module named 'common'",
     "output_type": "error",
     "traceback": [
      "\u001b[0;31m---------------------------------------------------------------------------\u001b[0m",
      "\u001b[0;31mModuleNotFoundError\u001b[0m                       Traceback (most recent call last)",
      "\u001b[1;32m/Users/landonblakey/UVA/S4/DS6011/common/ipynb_tests/Reading MAT Annotations.ipynb Cell 2'\u001b[0m in \u001b[0;36m<module>\u001b[0;34m\u001b[0m\n\u001b[0;32m----> <a href='vscode-notebook-cell:/Users/landonblakey/UVA/S4/DS6011/common/ipynb_tests/Reading%20MAT%20Annotations.ipynb#ch0000001?line=0'>1</a>\u001b[0m \u001b[39mfrom\u001b[39;00m \u001b[39mcommon\u001b[39;00m\u001b[39m.\u001b[39;00m\u001b[39mscripts\u001b[39;00m\u001b[39m.\u001b[39;00m\u001b[39mrecord\u001b[39;00m \u001b[39mimport\u001b[39;00m Record\n\u001b[1;32m      <a href='vscode-notebook-cell:/Users/landonblakey/UVA/S4/DS6011/common/ipynb_tests/Reading%20MAT%20Annotations.ipynb#ch0000001?line=1'>2</a>\u001b[0m rec1001 \u001b[39m=\u001b[39m Record(\u001b[39m'\u001b[39m\u001b[39m1001\u001b[39m\u001b[39m'\u001b[39m)\n",
      "\u001b[0;31mModuleNotFoundError\u001b[0m: No module named 'common'"
     ]
    }
   ],
   "source": [
    "from common.scripts.record import Record\n",
    "rec1001 = Record('1001')\n"
   ]
  },
  {
   "cell_type": "code",
   "execution_count": null,
   "id": "b7246b53",
   "metadata": {},
   "outputs": [],
   "source": [
    "rec1001.dec_list"
   ]
  },
  {
   "cell_type": "code",
   "execution_count": null,
   "id": "a24f7af7",
   "metadata": {},
   "outputs": [],
   "source": [
    "rec1001._signalDf"
   ]
  },
  {
   "cell_type": "code",
   "execution_count": null,
   "id": "418160a8",
   "metadata": {},
   "outputs": [],
   "source": [
    "import numpy as np\n",
    "from scipy.interpolate import interp1d\n",
    "uc = rec1001._signalDf['UC']\n",
    "fhr = rec1001._signalDf['FHR']\n",
    "# uc.interpolate(method='spline', order=3)\n",
    "# uc\n"
   ]
  },
  {
   "cell_type": "code",
   "execution_count": null,
   "id": "94e6f54a",
   "metadata": {},
   "outputs": [],
   "source": [
    "uc.last_valid_index()"
   ]
  },
  {
   "cell_type": "code",
   "execution_count": null,
   "id": "57522c13",
   "metadata": {},
   "outputs": [],
   "source": [
    "fhr.iloc[19017]"
   ]
  },
  {
   "cell_type": "code",
   "execution_count": null,
   "id": "db0a3637",
   "metadata": {},
   "outputs": [],
   "source": [
    "uc.iloc[14938]"
   ]
  },
  {
   "cell_type": "code",
   "execution_count": null,
   "id": "c606a55e",
   "metadata": {},
   "outputs": [],
   "source": [
    "rec1018._signalDf"
   ]
  },
  {
   "cell_type": "code",
   "execution_count": null,
   "id": "c1aa6d87",
   "metadata": {},
   "outputs": [],
   "source": [
    "\n",
    "rec1018._signalDf['UC'] = pd.Series(np.interp(np.flatnonzero(t), np.flatnonzero(~t), uc[~t]))"
   ]
  },
  {
   "cell_type": "code",
   "execution_count": null,
   "id": "0c3967ae",
   "metadata": {},
   "outputs": [],
   "source": [
    "rec1018._signalDf"
   ]
  },
  {
   "cell_type": "code",
   "execution_count": null,
   "id": "a4b972c8",
   "metadata": {},
   "outputs": [],
   "source": [
    "rec1001.plotUC(2)"
   ]
  },
  {
   "cell_type": "code",
   "execution_count": null,
   "id": "a073ff43",
   "metadata": {},
   "outputs": [],
   "source": [
    "rec1018.clearImages()"
   ]
  },
  {
   "cell_type": "code",
   "execution_count": null,
   "id": "8f967aec-b073-4f13-8c80-0de8c0d68d76",
   "metadata": {},
   "outputs": [],
   "source": [
    "rec1018.saveImages()"
   ]
  },
  {
   "cell_type": "code",
   "execution_count": null,
   "id": "7ad96b0e",
   "metadata": {},
   "outputs": [],
   "source": [
    "record_nums = map(lambda x: x[-8:-4], os.listdir(\"../../data/annotations/csv\"))\n",
    "img_dirs = list(map(lambda x: x[-4:], glob.glob(f'../../data/images/*', recursive=False)))"
   ]
  },
  {
   "cell_type": "code",
   "execution_count": null,
   "id": "b770d743",
   "metadata": {},
   "outputs": [],
   "source": [
    "for rec in record_nums:\n",
    "    if rec in img_dirs:\n",
    "        record = Record(rec)\n",
    "        record.clearImages()\n",
    "        record.saveImages()\n",
    "        del record"
   ]
  }
 ],
 "metadata": {
  "interpreter": {
   "hash": "5f98ab4d6997b79ab237938bd7519f3a90819f03050b38330d6a9fea86900d5c"
  },
  "kernelspec": {
   "display_name": "Python 3 (ipykernel)",
   "language": "python",
   "name": "python3"
  },
  "language_info": {
   "codemirror_mode": {
    "name": "ipython",
    "version": 3
   },
   "file_extension": ".py",
   "mimetype": "text/x-python",
   "name": "python",
   "nbconvert_exporter": "python",
   "pygments_lexer": "ipython3",
   "version": "3.9.2"
  }
 },
 "nbformat": 4,
 "nbformat_minor": 5
}
