{
 "cells": [
  {
   "cell_type": "code",
   "execution_count": 13,
   "metadata": {},
   "outputs": [],
   "source": [
    "# imports\n",
    "import matplotlib.pyplot as plt \n",
    "%matplotlib inline\n",
    "import pandas as pd\n",
    "import glob\n",
    "import os\n",
    "import csv\n",
    "import re"
   ]
  },
  {
   "cell_type": "code",
   "execution_count": 14,
   "metadata": {},
   "outputs": [
    {
     "data": {
      "text/plain": [
       "'/Users/landonblakey/UVA/S4/DS6011/common/ipynb_tests'"
      ]
     },
     "execution_count": 14,
     "metadata": {},
     "output_type": "execute_result"
    }
   ],
   "source": [
    "os.getcwd()"
   ]
  },
  {
   "cell_type": "code",
   "execution_count": 3,
   "metadata": {},
   "outputs": [],
   "source": [
    "# extract all files in the annotation folder and write to a list\n",
    "path = \"../../data/annotations/csv/\"\n",
    "\n",
    "fileScanner = os.scandir(path)\n",
    "AnnFiles = []\n",
    "for file in fileScanner:\n",
    "    if file.is_file():\n",
    "        AnnFiles.append(file.name)"
   ]
  },
  {
   "cell_type": "code",
   "execution_count": 4,
   "metadata": {},
   "outputs": [
    {
     "data": {
      "text/plain": [
       "['annotation_1178.csv',\n",
       " 'annotation_1144.csv',\n",
       " 'annotation_1150.csv',\n",
       " 'annotation_1187.csv',\n",
       " 'annotation_1193.csv']"
      ]
     },
     "execution_count": 4,
     "metadata": {},
     "output_type": "execute_result"
    }
   ],
   "source": [
    "# show one name\n",
    "AnnFiles[0:5]"
   ]
  },
  {
   "cell_type": "code",
   "execution_count": 5,
   "metadata": {},
   "outputs": [
    {
     "data": {
      "text/plain": [
       "'../../data/annotations/csv/annotation_1072.csv'"
      ]
     },
     "execution_count": 5,
     "metadata": {},
     "output_type": "execute_result"
    }
   ],
   "source": [
    "# make sure path is correct\n",
    "f'../../data/annotations/csv/{AnnFiles[314]}'"
   ]
  },
  {
   "cell_type": "code",
   "execution_count": 6,
   "metadata": {},
   "outputs": [
    {
     "ename": "EmptyDataError",
     "evalue": "No columns to parse from file",
     "output_type": "error",
     "traceback": [
      "\u001b[0;31m---------------------------------------------------------------------------\u001b[0m",
      "\u001b[0;31mEmptyDataError\u001b[0m                            Traceback (most recent call last)",
      "\u001b[1;32m/Users/landonblakey/UVA/S4/DS6011/common/ipynb_tests/Record.ipynb Cell 6'\u001b[0m in \u001b[0;36m<cell line: 2>\u001b[0;34m()\u001b[0m\n\u001b[1;32m      <a href='vscode-notebook-cell:/Users/landonblakey/UVA/S4/DS6011/common/ipynb_tests/Record.ipynb#ch0000005?line=3'>4</a>\u001b[0m     \u001b[39mcontinue\u001b[39;00m        \n\u001b[1;32m      <a href='vscode-notebook-cell:/Users/landonblakey/UVA/S4/DS6011/common/ipynb_tests/Record.ipynb#ch0000005?line=4'>5</a>\u001b[0m \u001b[39melse\u001b[39;00m:\n\u001b[0;32m----> <a href='vscode-notebook-cell:/Users/landonblakey/UVA/S4/DS6011/common/ipynb_tests/Record.ipynb#ch0000005?line=5'>6</a>\u001b[0m     pd\u001b[39m.\u001b[39;49mread_csv(\u001b[39mf\u001b[39;49m\u001b[39m'\u001b[39;49m\u001b[39m../../data/annotations/csv/\u001b[39;49m\u001b[39m{\u001b[39;49;00mAnnFiles[i]\u001b[39m}\u001b[39;49;00m\u001b[39m'\u001b[39;49m, header\u001b[39m=\u001b[39;49m\u001b[39mNone\u001b[39;49;00m)\u001b[39m.\u001b[39mT\u001b[39m.\u001b[39mto_csv\\\n\u001b[1;32m      <a href='vscode-notebook-cell:/Users/landonblakey/UVA/S4/DS6011/common/ipynb_tests/Record.ipynb#ch0000005?line=6'>7</a>\u001b[0m     (\u001b[39mf\u001b[39m\u001b[39m'\u001b[39m\u001b[39m../../data/annotations/csv/\u001b[39m\u001b[39m{\u001b[39;00mAnnFiles[i]\u001b[39m}\u001b[39;00m\u001b[39m'\u001b[39m, header\u001b[39m=\u001b[39m\u001b[39mFalse\u001b[39;00m, index\u001b[39m=\u001b[39m\u001b[39mFalse\u001b[39;00m)\n",
      "File \u001b[0;32m~/.local/share/virtualenvs/DS6011-X0jzG8ut/lib/python3.9/site-packages/pandas/util/_decorators.py:311\u001b[0m, in \u001b[0;36mdeprecate_nonkeyword_arguments.<locals>.decorate.<locals>.wrapper\u001b[0;34m(*args, **kwargs)\u001b[0m\n\u001b[1;32m    <a href='file:///Users/landonblakey/.local/share/virtualenvs/DS6011-X0jzG8ut/lib/python3.9/site-packages/pandas/util/_decorators.py?line=304'>305</a>\u001b[0m \u001b[39mif\u001b[39;00m \u001b[39mlen\u001b[39m(args) \u001b[39m>\u001b[39m num_allow_args:\n\u001b[1;32m    <a href='file:///Users/landonblakey/.local/share/virtualenvs/DS6011-X0jzG8ut/lib/python3.9/site-packages/pandas/util/_decorators.py?line=305'>306</a>\u001b[0m     warnings\u001b[39m.\u001b[39mwarn(\n\u001b[1;32m    <a href='file:///Users/landonblakey/.local/share/virtualenvs/DS6011-X0jzG8ut/lib/python3.9/site-packages/pandas/util/_decorators.py?line=306'>307</a>\u001b[0m         msg\u001b[39m.\u001b[39mformat(arguments\u001b[39m=\u001b[39marguments),\n\u001b[1;32m    <a href='file:///Users/landonblakey/.local/share/virtualenvs/DS6011-X0jzG8ut/lib/python3.9/site-packages/pandas/util/_decorators.py?line=307'>308</a>\u001b[0m         \u001b[39mFutureWarning\u001b[39;00m,\n\u001b[1;32m    <a href='file:///Users/landonblakey/.local/share/virtualenvs/DS6011-X0jzG8ut/lib/python3.9/site-packages/pandas/util/_decorators.py?line=308'>309</a>\u001b[0m         stacklevel\u001b[39m=\u001b[39mstacklevel,\n\u001b[1;32m    <a href='file:///Users/landonblakey/.local/share/virtualenvs/DS6011-X0jzG8ut/lib/python3.9/site-packages/pandas/util/_decorators.py?line=309'>310</a>\u001b[0m     )\n\u001b[0;32m--> <a href='file:///Users/landonblakey/.local/share/virtualenvs/DS6011-X0jzG8ut/lib/python3.9/site-packages/pandas/util/_decorators.py?line=310'>311</a>\u001b[0m \u001b[39mreturn\u001b[39;00m func(\u001b[39m*\u001b[39;49margs, \u001b[39m*\u001b[39;49m\u001b[39m*\u001b[39;49mkwargs)\n",
      "File \u001b[0;32m~/.local/share/virtualenvs/DS6011-X0jzG8ut/lib/python3.9/site-packages/pandas/io/parsers/readers.py:680\u001b[0m, in \u001b[0;36mread_csv\u001b[0;34m(filepath_or_buffer, sep, delimiter, header, names, index_col, usecols, squeeze, prefix, mangle_dupe_cols, dtype, engine, converters, true_values, false_values, skipinitialspace, skiprows, skipfooter, nrows, na_values, keep_default_na, na_filter, verbose, skip_blank_lines, parse_dates, infer_datetime_format, keep_date_col, date_parser, dayfirst, cache_dates, iterator, chunksize, compression, thousands, decimal, lineterminator, quotechar, quoting, doublequote, escapechar, comment, encoding, encoding_errors, dialect, error_bad_lines, warn_bad_lines, on_bad_lines, delim_whitespace, low_memory, memory_map, float_precision, storage_options)\u001b[0m\n\u001b[1;32m    <a href='file:///Users/landonblakey/.local/share/virtualenvs/DS6011-X0jzG8ut/lib/python3.9/site-packages/pandas/io/parsers/readers.py?line=664'>665</a>\u001b[0m kwds_defaults \u001b[39m=\u001b[39m _refine_defaults_read(\n\u001b[1;32m    <a href='file:///Users/landonblakey/.local/share/virtualenvs/DS6011-X0jzG8ut/lib/python3.9/site-packages/pandas/io/parsers/readers.py?line=665'>666</a>\u001b[0m     dialect,\n\u001b[1;32m    <a href='file:///Users/landonblakey/.local/share/virtualenvs/DS6011-X0jzG8ut/lib/python3.9/site-packages/pandas/io/parsers/readers.py?line=666'>667</a>\u001b[0m     delimiter,\n\u001b[0;32m   (...)\u001b[0m\n\u001b[1;32m    <a href='file:///Users/landonblakey/.local/share/virtualenvs/DS6011-X0jzG8ut/lib/python3.9/site-packages/pandas/io/parsers/readers.py?line=675'>676</a>\u001b[0m     defaults\u001b[39m=\u001b[39m{\u001b[39m\"\u001b[39m\u001b[39mdelimiter\u001b[39m\u001b[39m\"\u001b[39m: \u001b[39m\"\u001b[39m\u001b[39m,\u001b[39m\u001b[39m\"\u001b[39m},\n\u001b[1;32m    <a href='file:///Users/landonblakey/.local/share/virtualenvs/DS6011-X0jzG8ut/lib/python3.9/site-packages/pandas/io/parsers/readers.py?line=676'>677</a>\u001b[0m )\n\u001b[1;32m    <a href='file:///Users/landonblakey/.local/share/virtualenvs/DS6011-X0jzG8ut/lib/python3.9/site-packages/pandas/io/parsers/readers.py?line=677'>678</a>\u001b[0m kwds\u001b[39m.\u001b[39mupdate(kwds_defaults)\n\u001b[0;32m--> <a href='file:///Users/landonblakey/.local/share/virtualenvs/DS6011-X0jzG8ut/lib/python3.9/site-packages/pandas/io/parsers/readers.py?line=679'>680</a>\u001b[0m \u001b[39mreturn\u001b[39;00m _read(filepath_or_buffer, kwds)\n",
      "File \u001b[0;32m~/.local/share/virtualenvs/DS6011-X0jzG8ut/lib/python3.9/site-packages/pandas/io/parsers/readers.py:575\u001b[0m, in \u001b[0;36m_read\u001b[0;34m(filepath_or_buffer, kwds)\u001b[0m\n\u001b[1;32m    <a href='file:///Users/landonblakey/.local/share/virtualenvs/DS6011-X0jzG8ut/lib/python3.9/site-packages/pandas/io/parsers/readers.py?line=571'>572</a>\u001b[0m _validate_names(kwds\u001b[39m.\u001b[39mget(\u001b[39m\"\u001b[39m\u001b[39mnames\u001b[39m\u001b[39m\"\u001b[39m, \u001b[39mNone\u001b[39;00m))\n\u001b[1;32m    <a href='file:///Users/landonblakey/.local/share/virtualenvs/DS6011-X0jzG8ut/lib/python3.9/site-packages/pandas/io/parsers/readers.py?line=573'>574</a>\u001b[0m \u001b[39m# Create the parser.\u001b[39;00m\n\u001b[0;32m--> <a href='file:///Users/landonblakey/.local/share/virtualenvs/DS6011-X0jzG8ut/lib/python3.9/site-packages/pandas/io/parsers/readers.py?line=574'>575</a>\u001b[0m parser \u001b[39m=\u001b[39m TextFileReader(filepath_or_buffer, \u001b[39m*\u001b[39;49m\u001b[39m*\u001b[39;49mkwds)\n\u001b[1;32m    <a href='file:///Users/landonblakey/.local/share/virtualenvs/DS6011-X0jzG8ut/lib/python3.9/site-packages/pandas/io/parsers/readers.py?line=576'>577</a>\u001b[0m \u001b[39mif\u001b[39;00m chunksize \u001b[39mor\u001b[39;00m iterator:\n\u001b[1;32m    <a href='file:///Users/landonblakey/.local/share/virtualenvs/DS6011-X0jzG8ut/lib/python3.9/site-packages/pandas/io/parsers/readers.py?line=577'>578</a>\u001b[0m     \u001b[39mreturn\u001b[39;00m parser\n",
      "File \u001b[0;32m~/.local/share/virtualenvs/DS6011-X0jzG8ut/lib/python3.9/site-packages/pandas/io/parsers/readers.py:933\u001b[0m, in \u001b[0;36mTextFileReader.__init__\u001b[0;34m(self, f, engine, **kwds)\u001b[0m\n\u001b[1;32m    <a href='file:///Users/landonblakey/.local/share/virtualenvs/DS6011-X0jzG8ut/lib/python3.9/site-packages/pandas/io/parsers/readers.py?line=929'>930</a>\u001b[0m     \u001b[39mself\u001b[39m\u001b[39m.\u001b[39moptions[\u001b[39m\"\u001b[39m\u001b[39mhas_index_names\u001b[39m\u001b[39m\"\u001b[39m] \u001b[39m=\u001b[39m kwds[\u001b[39m\"\u001b[39m\u001b[39mhas_index_names\u001b[39m\u001b[39m\"\u001b[39m]\n\u001b[1;32m    <a href='file:///Users/landonblakey/.local/share/virtualenvs/DS6011-X0jzG8ut/lib/python3.9/site-packages/pandas/io/parsers/readers.py?line=931'>932</a>\u001b[0m \u001b[39mself\u001b[39m\u001b[39m.\u001b[39mhandles: IOHandles \u001b[39m|\u001b[39m \u001b[39mNone\u001b[39;00m \u001b[39m=\u001b[39m \u001b[39mNone\u001b[39;00m\n\u001b[0;32m--> <a href='file:///Users/landonblakey/.local/share/virtualenvs/DS6011-X0jzG8ut/lib/python3.9/site-packages/pandas/io/parsers/readers.py?line=932'>933</a>\u001b[0m \u001b[39mself\u001b[39m\u001b[39m.\u001b[39m_engine \u001b[39m=\u001b[39m \u001b[39mself\u001b[39;49m\u001b[39m.\u001b[39;49m_make_engine(f, \u001b[39mself\u001b[39;49m\u001b[39m.\u001b[39;49mengine)\n",
      "File \u001b[0;32m~/.local/share/virtualenvs/DS6011-X0jzG8ut/lib/python3.9/site-packages/pandas/io/parsers/readers.py:1231\u001b[0m, in \u001b[0;36mTextFileReader._make_engine\u001b[0;34m(self, f, engine)\u001b[0m\n\u001b[1;32m   <a href='file:///Users/landonblakey/.local/share/virtualenvs/DS6011-X0jzG8ut/lib/python3.9/site-packages/pandas/io/parsers/readers.py?line=1227'>1228</a>\u001b[0m     f \u001b[39m=\u001b[39m \u001b[39mself\u001b[39m\u001b[39m.\u001b[39mhandles\u001b[39m.\u001b[39mhandle\n\u001b[1;32m   <a href='file:///Users/landonblakey/.local/share/virtualenvs/DS6011-X0jzG8ut/lib/python3.9/site-packages/pandas/io/parsers/readers.py?line=1229'>1230</a>\u001b[0m \u001b[39mtry\u001b[39;00m:\n\u001b[0;32m-> <a href='file:///Users/landonblakey/.local/share/virtualenvs/DS6011-X0jzG8ut/lib/python3.9/site-packages/pandas/io/parsers/readers.py?line=1230'>1231</a>\u001b[0m     \u001b[39mreturn\u001b[39;00m mapping[engine](f, \u001b[39m*\u001b[39;49m\u001b[39m*\u001b[39;49m\u001b[39mself\u001b[39;49m\u001b[39m.\u001b[39;49moptions)\n\u001b[1;32m   <a href='file:///Users/landonblakey/.local/share/virtualenvs/DS6011-X0jzG8ut/lib/python3.9/site-packages/pandas/io/parsers/readers.py?line=1231'>1232</a>\u001b[0m \u001b[39mexcept\u001b[39;00m \u001b[39mException\u001b[39;00m:\n\u001b[1;32m   <a href='file:///Users/landonblakey/.local/share/virtualenvs/DS6011-X0jzG8ut/lib/python3.9/site-packages/pandas/io/parsers/readers.py?line=1232'>1233</a>\u001b[0m     \u001b[39mif\u001b[39;00m \u001b[39mself\u001b[39m\u001b[39m.\u001b[39mhandles \u001b[39mis\u001b[39;00m \u001b[39mnot\u001b[39;00m \u001b[39mNone\u001b[39;00m:\n",
      "File \u001b[0;32m~/.local/share/virtualenvs/DS6011-X0jzG8ut/lib/python3.9/site-packages/pandas/io/parsers/c_parser_wrapper.py:75\u001b[0m, in \u001b[0;36mCParserWrapper.__init__\u001b[0;34m(self, src, **kwds)\u001b[0m\n\u001b[1;32m     <a href='file:///Users/landonblakey/.local/share/virtualenvs/DS6011-X0jzG8ut/lib/python3.9/site-packages/pandas/io/parsers/c_parser_wrapper.py?line=71'>72</a>\u001b[0m     kwds\u001b[39m.\u001b[39mpop(key, \u001b[39mNone\u001b[39;00m)\n\u001b[1;32m     <a href='file:///Users/landonblakey/.local/share/virtualenvs/DS6011-X0jzG8ut/lib/python3.9/site-packages/pandas/io/parsers/c_parser_wrapper.py?line=73'>74</a>\u001b[0m kwds[\u001b[39m\"\u001b[39m\u001b[39mdtype\u001b[39m\u001b[39m\"\u001b[39m] \u001b[39m=\u001b[39m ensure_dtype_objs(kwds\u001b[39m.\u001b[39mget(\u001b[39m\"\u001b[39m\u001b[39mdtype\u001b[39m\u001b[39m\"\u001b[39m, \u001b[39mNone\u001b[39;00m))\n\u001b[0;32m---> <a href='file:///Users/landonblakey/.local/share/virtualenvs/DS6011-X0jzG8ut/lib/python3.9/site-packages/pandas/io/parsers/c_parser_wrapper.py?line=74'>75</a>\u001b[0m \u001b[39mself\u001b[39m\u001b[39m.\u001b[39m_reader \u001b[39m=\u001b[39m parsers\u001b[39m.\u001b[39;49mTextReader(src, \u001b[39m*\u001b[39;49m\u001b[39m*\u001b[39;49mkwds)\n\u001b[1;32m     <a href='file:///Users/landonblakey/.local/share/virtualenvs/DS6011-X0jzG8ut/lib/python3.9/site-packages/pandas/io/parsers/c_parser_wrapper.py?line=76'>77</a>\u001b[0m \u001b[39mself\u001b[39m\u001b[39m.\u001b[39munnamed_cols \u001b[39m=\u001b[39m \u001b[39mself\u001b[39m\u001b[39m.\u001b[39m_reader\u001b[39m.\u001b[39munnamed_cols\n\u001b[1;32m     <a href='file:///Users/landonblakey/.local/share/virtualenvs/DS6011-X0jzG8ut/lib/python3.9/site-packages/pandas/io/parsers/c_parser_wrapper.py?line=78'>79</a>\u001b[0m \u001b[39m# error: Cannot determine type of 'names'\u001b[39;00m\n",
      "File \u001b[0;32m~/.local/share/virtualenvs/DS6011-X0jzG8ut/lib/python3.9/site-packages/pandas/_libs/parsers.pyx:551\u001b[0m, in \u001b[0;36mpandas._libs.parsers.TextReader.__cinit__\u001b[0;34m()\u001b[0m\n",
      "\u001b[0;31mEmptyDataError\u001b[0m: No columns to parse from file"
     ]
    }
   ],
   "source": [
    "# loop over each AnnFiles and transpose files as needed\n",
    "for i in range(len(AnnFiles)):\n",
    "    if i in range(0,314):\n",
    "        continue        \n",
    "    else:\n",
    "        pd.read_csv(f'../../data/annotations/csv/{AnnFiles[i]}', header=None).T.to_csv\\\n",
    "        (f'../../data/annotations/csv/{AnnFiles[i]}', header=False, index=False)"
   ]
  },
  {
   "cell_type": "code",
   "execution_count": 7,
   "metadata": {},
   "outputs": [],
   "source": [
    "def delete_keys(d):\n",
    "        del_k = [k for k in d if len(d[k]) != 2]\n",
    "        for k in del_k: del d[k] "
   ]
  },
  {
   "cell_type": "code",
   "execution_count": 15,
   "metadata": {},
   "outputs": [],
   "source": [
    "\"\"\"Accessing and interacting with Record files\"\"\"\n",
    "\n",
    "class Record():\n",
    "    \"\"\"Class for interacting with record files\"\"\"\n",
    "\n",
    "    def __init__(self, record_name: str) -> None:\n",
    "        \"\"\"Initialzes the record class\"\"\"\n",
    "        self.record_name = record_name\n",
    "        self.uc = {} \n",
    "        self.dec = {}\n",
    "        self.acc = {}\n",
    "        self.tc = {}\n",
    "        self.bc = {}\n",
    "        self.ann = {}\n",
    "        self._signalDf = pd.read_csv(f'../../data/database/signals/{record_name}.csv', na_values=['0.0'])\n",
    "\n",
    "        # Call to get annotations\n",
    "        self.__getannotations(self.record_name)\n",
    "\n",
    "        # call to static method to create uc_dict\n",
    "  \n",
    "\n",
    "\n",
    "    def __getannotations(self, record_name) -> None:\n",
    "        \"\"\"Gets the annotations from the annotation csv file\n",
    "        and populates the appropriate annotation list\"\"\"\n",
    "\n",
    "        \n",
    "        with open(f'../../data/annotations/csv/annotation_{record_name}.csv', newline='',\n",
    "        encoding='UTF-8') as csvfile:\n",
    "            annreader = csv.reader(csvfile, delimiter=',')\n",
    "            for i, row in enumerate(annreader):\n",
    "                                \n",
    "                joined_row = ''.join(row)\n",
    "                ##### transpose joined_row if data is in a single row\n",
    "                \n",
    "                if 'UC' in joined_row:\n",
    "                    for ann in re.findall(r'[\\(\\)]UC\\d+', joined_row):\n",
    "                        if ann[0] == '(':\n",
    "                            self.uc[ann[1:]] = [i]  \n",
    "                        if ann[0] == ')' and ann[1:] in self.uc.keys():\n",
    "                            self.uc[ann[1:]].append(i)        \n",
    "                if 'DEC' in joined_row:\n",
    "                    for ann in re.findall(r'[\\(\\)]DEC\\d+', joined_row):\n",
    "                        if ann[0] == '(':\n",
    "                            self.dec[ann[1:]] = [i]  \n",
    "                        if ann[0] == ')' and ann[1:] in self.dec.keys():\n",
    "                            self.dec[ann[1:]].append(i)\n",
    "                if 'ACC' in joined_row:\n",
    "                    for ann in re.findall(r'[\\(\\)]ACC\\d+', joined_row):\n",
    "                        if ann[0] == '(':\n",
    "                            self.acc[ann[1:]] = [i]  \n",
    "                        if ann[0] == ')' and ann[1:] in self.acc.keys():\n",
    "                            self.acc[ann[1:]].append(i)\n",
    "                if 'TC' in joined_row:\n",
    "                    for ann in re.findall(r'[\\(\\)]TC\\d+', joined_row):\n",
    "                        if ann[0] == '(':\n",
    "                            self.tc[ann[1:]] = [i]  \n",
    "                        if ann[0] == ')' and ann[1:] in self.tc.keys():\n",
    "                            self.tc[ann[1:]].append(i)\n",
    "                if 'BC' in joined_row:\n",
    "                    for ann in re.findall(r'[\\(\\)]BC\\d+', joined_row):\n",
    "                        if ann[0] == '(':\n",
    "                            self.bc[ann[1:]] = [i]  \n",
    "                        if ann[0] == ')' and ann[1:] in self.bc.keys():\n",
    "                            self.bc[ann[1:]].append(i)\n",
    "                \n",
    "        for d in [self.uc, self.dec, self.acc, self.tc, self.bc]: delete_keys(d)\n",
    "            \n",
    "        self.ann = dict(zip([\"UC\",\"DEC\",\"ACC\",\"TC\",\"BC\"],[self.uc, self.dec, self.acc, self.tc, self.bc]))\n",
    "\n",
    "    def plotUC(self, ucNum: int):\n",
    "        \"\"\"Plots the UC contraction and FHR specified by ucNum\"\"\"\n",
    "        plotNum = 'UC'+str(ucNum)\n",
    "        if plotNum in self.uc.keys():\n",
    "            start, end = self.uc[plotNum]\n",
    "            x = self._signalDf['seconds'][start:end].to_numpy()\n",
    "            y_uc = self._signalDf['UC'][start:end].interpolate(method='linear').to_numpy()\n",
    "            y_fhr = self._signalDf['FHR'][start:end].interpolate(method='linear').to_numpy()\n",
    "\n",
    "            # FHR subplot\n",
    "            fig, axs = plt.subplots(nrows=2, ncols=1, sharex=True)\n",
    "            axs[0].set_title(f'Record {self.record_name} {plotNum}')\n",
    "            axs[0].plot(x, y_fhr, '#1f77b4')\n",
    "            axs[0].set_xlim(start+2, end+2)\n",
    "            axs[0].set_ylabel('FHR')\n",
    "            axs[0].set_ylim(0, 220)\n",
    "            # Uterine Contraction subplot\n",
    "            axs[1].plot(x, y_uc, '#ff7f0e')\n",
    "            axs[1].set_xlim(start+2, end+2)\n",
    "            axs[1].set_ylim(0, 100)\n",
    "            axs[1].set_ylabel('Uterine Contraction')\n",
    "            fig.set_size_inches(8, 4)\n",
    "\n",
    "            plt.show()        \n",
    "\n",
    "\n",
    "    def _savePlot(self, ucStr):\n",
    "        \"\"\"Plots the UC contraction and FHR specified by ucNum\"\"\"\n",
    "        plotNum = ucStr\n",
    "        if plotNum in self.uc.keys():\n",
    "            start, end = self.uc[plotNum]\n",
    "            x = self._signalDf['seconds'][start:end].to_numpy()\n",
    "            y_uc = self._signalDf['UC'][start:end].interpolate(method='linear').to_numpy()\n",
    "            y_fhr = self._signalDf['FHR'][start:end].interpolate(method='linear').to_numpy()\n",
    "            \n",
    "            fig, ax = plt.subplots(nrows=1, ncols=1)\n",
    "            ax.set_title(f'Record {self.record_name} {plotNum}')\n",
    "            ax.plot(x, y_uc, '#1f77b4', x, y_fhr, '#ff7f0e')\n",
    "            ax.set_xlim(start+2, end+2)\n",
    "            ax.set_ylim(0, 220)\n",
    "            fig.set_size_inches(18, 8)\n",
    "\n",
    "            fig = plt.gcf()\n",
    "            fig.set_size_inches(18, 8)\n",
    "            fig.savefig(f\"../../data/images/record_{self.record_name}/{plotNum}.png\", bbox_inches='tight')\n",
    "            plt.close(fig)\n",
    "\n",
    "    def saveImages(self):\n",
    "        \"\"\"Saves the images in ../../data/images/{record_name}\"\"\"\n",
    "        for key, val in self.uc_pairs.items():\n",
    "            self._savePlot(val, key)\n",
    "        print(f\"Images for Record {self.record_name} have been saved.\")\n",
    "                \n",
    "    def clearImages(self):\n",
    "        \"\"\"Deletes the images in ../../data/images/{record_name}\"\"\"\n",
    "        imgs = glob.glob(f'../../data/images/record_{self.record_name}/*.png', recursive=True)\n",
    "\n",
    "        for img in imgs:\n",
    "            try:\n",
    "                os.remove(img)\n",
    "            except OSError as e:\n",
    "                print(\"Error: %s : %s\" % (img, e.strerror))"
   ]
  },
  {
   "cell_type": "code",
   "execution_count": 17,
   "metadata": {},
   "outputs": [],
   "source": [
    "rec = Record('1316')"
   ]
  },
  {
   "cell_type": "code",
   "execution_count": 18,
   "metadata": {},
   "outputs": [
    {
     "data": {
      "text/plain": [
       "{'UC1': [4919, 5159],\n",
       " 'UC2': [11879, 12079],\n",
       " 'UC3': [12839, 13079],\n",
       " 'UC4': [14759, 14879],\n",
       " 'UC5': [15119, 15359],\n",
       " 'UC6': [15575, 15815],\n",
       " 'UC7': [15983, 16199],\n",
       " 'UC8': [16439, 16679]}"
      ]
     },
     "execution_count": 18,
     "metadata": {},
     "output_type": "execute_result"
    }
   ],
   "source": [
    "rec.ann['UC']"
   ]
  },
  {
   "cell_type": "code",
   "execution_count": 199,
   "metadata": {},
   "outputs": [],
   "source": [
    "int_df = rec._signalDf.interpolate(method='linear')"
   ]
  },
  {
   "cell_type": "code",
   "execution_count": 200,
   "metadata": {},
   "outputs": [],
   "source": [
    "rec._signalDf = int_df"
   ]
  },
  {
   "cell_type": "code",
   "execution_count": 19,
   "metadata": {},
   "outputs": [
    {
     "data": {
      "image/png": "[encoded data removed]",
      "text/plain": [
       "<Figure size 576x288 with 2 Axes>"
      ]
     },
     "metadata": {
      "needs_background": "light"
     },
     "output_type": "display_data"
    }
   ],
   "source": [
    "rec.plotUC(5)"
   ]
  },
  {
   "cell_type": "code",
   "execution_count": 181,
   "metadata": {},
   "outputs": [
    {
     "data": {
      "text/plain": [
       "{}"
      ]
     },
     "execution_count": 181,
     "metadata": {},
     "output_type": "execute_result"
    }
   ],
   "source": [
    "rec.acc"
   ]
  },
  {
   "cell_type": "code",
   "execution_count": 9,
   "metadata": {},
   "outputs": [],
   "source": [
    "import numpy as np\n",
    "from scipy.interpolate import interp1d\n",
    "uc = rec1001._signalDf['UC']\n",
    "fhr = rec1001._signalDf['FHR']\n",
    "# uc.interpolate(method='spline', order=3)\n",
    "# uc\n"
   ]
  },
  {
   "cell_type": "code",
   "execution_count": 10,
   "metadata": {},
   "outputs": [
    {
     "data": {
      "text/plain": [
       "15599"
      ]
     },
     "execution_count": 10,
     "metadata": {},
     "output_type": "execute_result"
    }
   ],
   "source": [
    "uc.last_valid_index()"
   ]
  },
  {
   "cell_type": "code",
   "execution_count": 137,
   "metadata": {},
   "outputs": [],
   "source": [
    "#fhr.iloc[19017]"
   ]
  },
  {
   "cell_type": "code",
   "execution_count": null,
   "metadata": {},
   "outputs": [],
   "source": [
    "uc.iloc[14938]"
   ]
  },
  {
   "cell_type": "code",
   "execution_count": null,
   "metadata": {},
   "outputs": [],
   "source": [
    "rec1018._signalDf"
   ]
  },
  {
   "cell_type": "code",
   "execution_count": null,
   "metadata": {},
   "outputs": [],
   "source": [
    "\n",
    "rec1018._signalDf['UC'] = pd.Series(np.interp(np.flatnonzero(t), np.flatnonzero(~t), uc[~t]))"
   ]
  },
  {
   "cell_type": "code",
   "execution_count": null,
   "metadata": {},
   "outputs": [],
   "source": [
    "rec1018._signalDf"
   ]
  },
  {
   "cell_type": "code",
   "execution_count": null,
   "metadata": {},
   "outputs": [],
   "source": [
    "rec1001.plotUC(2)"
   ]
  },
  {
   "cell_type": "code",
   "execution_count": null,
   "metadata": {},
   "outputs": [],
   "source": [
    "rec1018.clearImages()"
   ]
  },
  {
   "cell_type": "code",
   "execution_count": null,
   "metadata": {},
   "outputs": [],
   "source": [
    "rec1018.saveImages()"
   ]
  },
  {
   "cell_type": "code",
   "execution_count": null,
   "metadata": {},
   "outputs": [],
   "source": [
    "record_nums = map(lambda x: x[-8:-4], os.listdir(\"../../data/annotations/csv\"))\n",
    "img_dirs = list(map(lambda x: x[-4:], glob.glob(f'../../data/images/*', recursive=False)))"
   ]
  },
  {
   "cell_type": "code",
   "execution_count": null,
   "metadata": {},
   "outputs": [],
   "source": [
    "for rec in record_nums:\n",
    "    if rec in img_dirs:\n",
    "        record = Record(rec)\n",
    "        record.clearImages()\n",
    "        record.saveImages()\n",
    "        del record"
   ]
  }
 ],
 "metadata": {
  "interpreter": {
   "hash": "5f98ab4d6997b79ab237938bd7519f3a90819f03050b38330d6a9fea86900d5c"
  },
  "kernelspec": {
   "display_name": "Python 3",
   "language": "python",
   "name": "python3"
  },
  "language_info": {
   "codemirror_mode": {
    "name": "ipython",
    "version": 3
   },
   "file_extension": ".py",
   "mimetype": "text/x-python",
   "name": "python",
   "nbconvert_exporter": "python",
   "pygments_lexer": "ipython3",
   "version": "3.9.2"
  }
 },
 "nbformat": 4,
 "nbformat_minor": 5
}
