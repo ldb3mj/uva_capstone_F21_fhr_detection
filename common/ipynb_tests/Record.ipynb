{
 "cells": [
  {
   "cell_type": "code",
   "execution_count": 76,
   "metadata": {},
   "outputs": [],
   "source": [
    "# imports\n",
    "import matplotlib.pyplot as plt \n",
    "%matplotlib inline\n",
    "import pandas as pd\n",
    "import glob\n",
    "import os\n",
    "import csv\n",
    "import re"
   ]
  },
  {
   "cell_type": "code",
   "execution_count": 89,
   "metadata": {},
   "outputs": [
    {
     "data": {
      "text/plain": [
       "'C:\\\\Users\\\\steph\\\\Downloads\\\\uva_capstone_F21_fhr_detection-master\\\\common\\\\ipynb_tests'"
      ]
     },
     "execution_count": 89,
     "metadata": {},
     "output_type": "execute_result"
    }
   ],
   "source": [
    "os.getcwd()"
   ]
  },
  {
   "cell_type": "code",
   "execution_count": 92,
   "metadata": {},
   "outputs": [],
   "source": [
    "# extract all files in the annotation folder and write to a list\n",
    "path = \"../../data/annotations/csv/\"\n",
    "\n",
    "fileScanner = os.scandir(path)\n",
    "AnnFiles = []\n",
    "for file in fileScanner:\n",
    "    if file.is_file():\n",
    "        AnnFiles.append(file.name)"
   ]
  },
  {
   "cell_type": "code",
   "execution_count": 126,
   "metadata": {},
   "outputs": [
    {
     "data": {
      "text/plain": [
       "['.DS_Store',\n",
       " 'annotation_1001.csv',\n",
       " 'annotation_1002.csv',\n",
       " 'annotation_1003.csv',\n",
       " 'annotation_1004.csv']"
      ]
     },
     "execution_count": 126,
     "metadata": {},
     "output_type": "execute_result"
    }
   ],
   "source": [
    "# show one name\n",
    "AnnFiles[0:5]"
   ]
  },
  {
   "cell_type": "code",
   "execution_count": 127,
   "metadata": {},
   "outputs": [
    {
     "data": {
      "text/plain": [
       "'../../data/annotations/csv/annotation_1314.csv'"
      ]
     },
     "execution_count": 127,
     "metadata": {},
     "output_type": "execute_result"
    }
   ],
   "source": [
    "# make sure path is correct\n",
    "f'../../data/annotations/csv/{AnnFiles[314]}'"
   ]
  },
  {
   "cell_type": "code",
   "execution_count": 129,
   "metadata": {},
   "outputs": [],
   "source": [
    "# loop over each AnnFiles and transpose files as needed\n",
    "for i in range(len(AnnFiles)):\n",
    "    if i in range(0,314):\n",
    "        continue        \n",
    "    else:\n",
    "        pd.read_csv(f'../../data/annotations/csv/{AnnFiles[i]}', header=None).T.to_csv\\\n",
    "        (f'../../data/annotations/csv/{AnnFiles[i]}', header=False, index=False)"
   ]
  },
  {
   "cell_type": "code",
   "execution_count": 116,
   "metadata": {},
   "outputs": [],
   "source": [
    "def delete_keys(d):\n",
    "        del_k = [k for k in d if len(d[k]) != 2]\n",
    "        for k in del_k: del d[k] "
   ]
  },
  {
   "cell_type": "code",
   "execution_count": 196,
   "metadata": {},
   "outputs": [],
   "source": [
    "\"\"\"Accessing and interacting with Record files\"\"\"\n",
    "\n",
    "class Record():\n",
    "    \"\"\"Class for interacting with record files\"\"\"\n",
    "\n",
    "    def __init__(self, record_name: str) -> None:\n",
    "        \"\"\"Initialzes the record class\"\"\"\n",
    "        self.record_name = record_name\n",
    "        self.uc = {} \n",
    "        self.dec = {}\n",
    "        self.acc = {}\n",
    "        self.tc = {}\n",
    "        self.bc = {}\n",
    "        self.ann = {}\n",
    "        self._signalDf = pd.read_csv(f'../../data/database/signals/{record_name}.csv', na_values=['0.0'])\n",
    "\n",
    "        # Call to get annotations\n",
    "        self.__getannotations(self.record_name)\n",
    "\n",
    "        # call to static method to create uc_dict\n",
    "  \n",
    "\n",
    "\n",
    "    def __getannotations(self, record_name) -> None:\n",
    "        \"\"\"Gets the annotations from the annotation csv file\n",
    "        and populates the appropriate annotation list\"\"\"\n",
    "\n",
    "        \n",
    "        with open(f'../../data/annotations/csv/annotation_{record_name}.csv', newline='',\n",
    "        encoding='UTF-8') as csvfile:\n",
    "            annreader = csv.reader(csvfile, delimiter=',')\n",
    "            for i, row in enumerate(annreader):\n",
    "                                \n",
    "                joined_row = ''.join(row)\n",
    "                ##### transpose joined_row if data is in a single row\n",
    "                \n",
    "                if 'UC' in joined_row:\n",
    "                    for ann in re.findall(r'[\\(\\)]UC\\d+', joined_row):\n",
    "                        if ann[0] == '(':\n",
    "                            self.uc[ann[1:]] = [i]  \n",
    "                        if ann[0] == ')' and ann[1:] in self.uc.keys():\n",
    "                            self.uc[ann[1:]].append(i)        \n",
    "                if 'DEC' in joined_row:\n",
    "                    for ann in re.findall(r'[\\(\\)]DEC\\d+', joined_row):\n",
    "                        if ann[0] == '(':\n",
    "                            self.dec[ann[1:]] = [i]  \n",
    "                        if ann[0] == ')' and ann[1:] in self.dec.keys():\n",
    "                            self.dec[ann[1:]].append(i)\n",
    "                if 'ACC' in joined_row:\n",
    "                    for ann in re.findall(r'[\\(\\)]ACC\\d+', joined_row):\n",
    "                        if ann[0] == '(':\n",
    "                            self.acc[ann[1:]] = [i]  \n",
    "                        if ann[0] == ')' and ann[1:] in self.acc.keys():\n",
    "                            self.acc[ann[1:]].append(i)\n",
    "                if 'TC' in joined_row:\n",
    "                    for ann in re.findall(r'[\\(\\)]TC\\d+', joined_row):\n",
    "                        if ann[0] == '(':\n",
    "                            self.tc[ann[1:]] = [i]  \n",
    "                        if ann[0] == ')' and ann[1:] in self.tc.keys():\n",
    "                            self.tc[ann[1:]].append(i)\n",
    "                if 'BC' in joined_row:\n",
    "                    for ann in re.findall(r'[\\(\\)]BC\\d+', joined_row):\n",
    "                        if ann[0] == '(':\n",
    "                            self.bc[ann[1:]] = [i]  \n",
    "                        if ann[0] == ')' and ann[1:] in self.bc.keys():\n",
    "                            self.bc[ann[1:]].append(i)\n",
    "                \n",
    "        for d in [self.uc, self.dec, self.acc, self.tc, self.bc]: delete_keys(d)\n",
    "            \n",
    "        self.ann = zip([\"UC\",\"DEC\",\"ACC\",\"TC\",\"BC\"],[self.uc, self.dec, self.acc, self.tc, self.bc])    \n",
    "\n",
    "    def plotUC(self, ucNum: int):\n",
    "        \"\"\"Plots the UC contraction and FHR specified by ucNum\"\"\"\n",
    "        plotNum = 'UC'+str(ucNum)\n",
    "        if plotNum in self.uc.keys():\n",
    "            start, end = self.uc[plotNum]\n",
    "            x = self._signalDf['seconds'][start:end].to_numpy()\n",
    "            y_uc = self._signalDf['UC'][start:end].to_numpy()\n",
    "            y_fhr = self._signalDf['FHR'][start:end].to_numpy()\n",
    "\n",
    "            # FHR subplot\n",
    "            fig, axs = plt.subplots(nrows=2, ncols=1, sharex=True)\n",
    "            axs[0].set_title(f'Record {self.record_name} {plotNum}')\n",
    "            axs[0].plot(x, y_fhr, '#1f77b4')\n",
    "            axs[0].set_xlim(start+2, end+2)\n",
    "            axs[0].set_ylabel('FHR')\n",
    "            axs[0].set_ylim(0, 220)\n",
    "            # Uterine Contraction subplot\n",
    "            axs[1].plot(x, y_uc, '#ff7f0e')\n",
    "            axs[1].set_xlim(start+2, end+2)\n",
    "            axs[1].set_ylim(0, 100)\n",
    "            axs[1].set_ylabel('Uterine Contraction')\n",
    "            fig.set_size_inches(8, 4)\n",
    "\n",
    "            plt.show()        \n",
    "\n",
    "\n",
    "    def _savePlot(self, ucStr):\n",
    "        \"\"\"Plots the UC contraction and FHR specified by ucNum\"\"\"\n",
    "        plotNum = ucStr\n",
    "        if plotNum in self.uc.keys():\n",
    "            start, end = self.uc[plotNum]\n",
    "            x = self._signalDf['seconds'][start:end].to_numpy()\n",
    "            y_uc = self._signalDf['UC'][start:end].to_numpy()\n",
    "            y_fhr = self._signalDf['FHR'][start:end].to_numpy()\n",
    "            \n",
    "            fig, ax = plt.subplots(nrows=1, ncols=1)\n",
    "            ax.set_title(f'Record {self.record_name} {plotNum}')\n",
    "            ax.plot(x, y_uc, '#1f77b4', x, y_fhr, '#ff7f0e')\n",
    "            ax.set_xlim(start+2, end+2)\n",
    "            ax.set_ylim(0, 220)\n",
    "            fig.set_size_inches(18, 8)\n",
    "\n",
    "            fig = plt.gcf()\n",
    "            fig.set_size_inches(18, 8)\n",
    "            fig.savefig(f\"../../data/images/record_{self.record_name}/{plotNum}.png\", bbox_inches='tight')\n",
    "            plt.close(fig)\n",
    "\n",
    "    def saveImages(self):\n",
    "        \"\"\"Saves the images in ../../data/images/{record_name}\"\"\"\n",
    "        for key, val in self.uc_pairs.items():\n",
    "            self._savePlot(val, key)\n",
    "        print(f\"Images for Record {self.record_name} have been saved.\")\n",
    "                \n",
    "    def clearImages(self):\n",
    "        \"\"\"Deletes the images in ../../data/images/{record_name}\"\"\"\n",
    "        imgs = glob.glob(f'../../data/images/record_{self.record_name}/*.png', recursive=True)\n",
    "\n",
    "        for img in imgs:\n",
    "            try:\n",
    "                os.remove(img)\n",
    "            except OSError as e:\n",
    "                print(\"Error: %s : %s\" % (img, e.strerror))"
   ]
  },
  {
   "cell_type": "code",
   "execution_count": 197,
   "metadata": {},
   "outputs": [],
   "source": [
    "rec = Record('1316')"
   ]
  },
  {
   "cell_type": "code",
   "execution_count": 198,
   "metadata": {},
   "outputs": [],
   "source": [
    "#dict(rec.ann)\n",
    "#rec.uc"
   ]
  },
  {
   "cell_type": "code",
   "execution_count": 199,
   "metadata": {},
   "outputs": [],
   "source": [
    "int_df = rec._signalDf.interpolate(method='linear')"
   ]
  },
  {
   "cell_type": "code",
   "execution_count": 200,
   "metadata": {},
   "outputs": [],
   "source": [
    "rec._signalDf = int_df"
   ]
  },
  {
   "cell_type": "code",
   "execution_count": 201,
   "metadata": {},
   "outputs": [
    {
     "data": {
      "image/png": "[encoded data removed]",
      "text/plain": [
       "<Figure size 576x288 with 2 Axes>"
      ]
     },
     "metadata": {
      "needs_background": "light"
     },
     "output_type": "display_data"
    }
   ],
   "source": [
    "rec.plotUC(5)"
   ]
  },
  {
   "cell_type": "code",
   "execution_count": 181,
   "metadata": {},
   "outputs": [
    {
     "data": {
      "text/plain": [
       "{}"
      ]
     },
     "execution_count": 181,
     "metadata": {},
     "output_type": "execute_result"
    }
   ],
   "source": [
    "rec.acc"
   ]
  },
  {
   "cell_type": "code",
   "execution_count": 9,
   "metadata": {},
   "outputs": [],
   "source": [
    "import numpy as np\n",
    "from scipy.interpolate import interp1d\n",
    "uc = rec1001._signalDf['UC']\n",
    "fhr = rec1001._signalDf['FHR']\n",
    "# uc.interpolate(method='spline', order=3)\n",
    "# uc\n"
   ]
  },
  {
   "cell_type": "code",
   "execution_count": 10,
   "metadata": {},
   "outputs": [
    {
     "data": {
      "text/plain": [
       "15599"
      ]
     },
     "execution_count": 10,
     "metadata": {},
     "output_type": "execute_result"
    }
   ],
   "source": [
    "uc.last_valid_index()"
   ]
  },
  {
   "cell_type": "code",
   "execution_count": 137,
   "metadata": {},
   "outputs": [],
   "source": [
    "#fhr.iloc[19017]"
   ]
  },
  {
   "cell_type": "code",
   "execution_count": null,
   "metadata": {},
   "outputs": [],
   "source": [
    "uc.iloc[14938]"
   ]
  },
  {
   "cell_type": "code",
   "execution_count": null,
   "metadata": {},
   "outputs": [],
   "source": [
    "rec1018._signalDf"
   ]
  },
  {
   "cell_type": "code",
   "execution_count": null,
   "metadata": {},
   "outputs": [],
   "source": [
    "\n",
    "rec1018._signalDf['UC'] = pd.Series(np.interp(np.flatnonzero(t), np.flatnonzero(~t), uc[~t]))"
   ]
  },
  {
   "cell_type": "code",
   "execution_count": null,
   "metadata": {},
   "outputs": [],
   "source": [
    "rec1018._signalDf"
   ]
  },
  {
   "cell_type": "code",
   "execution_count": null,
   "metadata": {},
   "outputs": [],
   "source": [
    "rec1001.plotUC(2)"
   ]
  },
  {
   "cell_type": "code",
   "execution_count": null,
   "metadata": {},
   "outputs": [],
   "source": [
    "rec1018.clearImages()"
   ]
  },
  {
   "cell_type": "code",
   "execution_count": null,
   "metadata": {},
   "outputs": [],
   "source": [
    "rec1018.saveImages()"
   ]
  },
  {
   "cell_type": "code",
   "execution_count": null,
   "metadata": {},
   "outputs": [],
   "source": [
    "record_nums = map(lambda x: x[-8:-4], os.listdir(\"../../data/annotations/csv\"))\n",
    "img_dirs = list(map(lambda x: x[-4:], glob.glob(f'../../data/images/*', recursive=False)))"
   ]
  },
  {
   "cell_type": "code",
   "execution_count": null,
   "metadata": {},
   "outputs": [],
   "source": [
    "for rec in record_nums:\n",
    "    if rec in img_dirs:\n",
    "        record = Record(rec)\n",
    "        record.clearImages()\n",
    "        record.saveImages()\n",
    "        del record"
   ]
  }
 ],
 "metadata": {
  "interpreter": {
   "hash": "5f98ab4d6997b79ab237938bd7519f3a90819f03050b38330d6a9fea86900d5c"
  },
  "kernelspec": {
   "display_name": "Python 3",
   "language": "python",
   "name": "python3"
  },
  "language_info": {
   "codemirror_mode": {
    "name": "ipython",
    "version": 3
   },
   "file_extension": ".py",
   "mimetype": "text/x-python",
   "name": "python",
   "nbconvert_exporter": "python",
   "pygments_lexer": "ipython3",
   "version": "3.8.3"
  }
 },
 "nbformat": 4,
 "nbformat_minor": 5
}
